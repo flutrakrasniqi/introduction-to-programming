{
 "cells": [
  {
   "cell_type": "markdown",
   "metadata": {
    "toc": true
   },
   "source": [
    "<h1>Contents<span class=\"tocSkip\"></span></h1>\n",
    "<div class=\"toc\"><ul class=\"toc-item\"><li><span><a href=\"#Vectors\" data-toc-modified-id=\"Vectors-1\">Vectors</a></span></li><li><span><a href=\"#Matrices\" data-toc-modified-id=\"Matrices-2\">Matrices</a></span><ul class=\"toc-item\"><li><span><a href=\"#Matrix-multiplication\" data-toc-modified-id=\"Matrix-multiplication-2.1\">Matrix multiplication</a></span><ul class=\"toc-item\"><li><span><a href=\"#Rotation\" data-toc-modified-id=\"Rotation-2.1.1\">Rotation</a></span></li></ul></li></ul></li><li><span><a href=\"#Objective\" data-toc-modified-id=\"Objective-3\">Objective</a></span></li><li><span><a href=\"#Arrays\" data-toc-modified-id=\"Arrays-4\">Arrays</a></span><ul class=\"toc-item\"><li><span><a href=\"#numpy-arrays\" data-toc-modified-id=\"numpy-arrays-4.1\">numpy arrays</a></span><ul class=\"toc-item\"><li><span><a href=\"#Data-types\" data-toc-modified-id=\"Data-types-4.1.1\">Data types</a></span></li><li><span><a href=\"#Indexing\" data-toc-modified-id=\"Indexing-4.1.2\">Indexing</a></span></li></ul></li></ul></li></ul></div>"
   ]
  },
  {
   "cell_type": "markdown",
   "metadata": {},
   "source": [
    "# Array computing\n",
    "\n",
    "Various tasks in science and mathematics involve manipulating collections of numbers organized in vectors or matrices. You may remember this from high school or college, depending on how far you took math. In this lesson we will learn about how to manipulate vectors and matrices with Python, so let's start by briefly recapping what these things are.\n",
    "\n",
    "## Vectors\n",
    "\n",
    "A [vector](extras/glossary.ipynb#vector) is a collection of multiple numbers arranged in a specific order. Vectors have various uses. They can be used in data analysis to represent multiple observations of the same type. For example, some shoe sizes:\n",
    "\n",
    "$$\n",
    "\\begin{bmatrix}\n",
    "42 & 39 & 72 & 45 \\\\\n",
    "\\end{bmatrix}\n",
    "$$\n",
    "\n",
    "Vectors are also commonly used to represent points in a multidimensional space. For example, a vector of three numbers could record the *height, width, depth* coordinates of a point in three-dimensional space:\n",
    "\n",
    "$$\n",
    "\\begin{bmatrix}\n",
    "2.4 & 1.0 & 3.7 \\\\\n",
    "\\end{bmatrix}\n",
    "$$\n",
    "\n",
    "## Matrices\n",
    "\n",
    "As well as being a virtual-reality environment in which our machine overlords keep us entertained while harvesting our energy in defiance of the laws of thermodynamics, a [matrix](extras/glossary.ipynb#matrix) is a collection of multiple numbers arranged in rows and columns. Like vectors, matrices have various purposes in practical applications of math. A matrix might record multiple observations of multiple variables, where each row is an observation and each column is a variable. For example, for four people, their shoe sizes, IQ scores, and whether or not they work as a clown (`0` for 'no' and `1` for 'yes'):\n",
    "\n",
    "$$\n",
    "\\begin{bmatrix}\n",
    "42 & 150 & 0 \\\\\n",
    "39 & 115 & 0 \\\\\n",
    "72 & 180 & 1 \\\\\n",
    "45 & 85 & 0 \\\\\n",
    "\\end{bmatrix}\n",
    "$$\n",
    "\n",
    "Or a matrix might record the coordinates of a group of points in some space. For a two-dimensional space, the matrix might have two columns, representing the *x* and *y* (or horizontal and vertical) axes of the space, and each row would then represent one point in the space. For example:\n",
    "\n",
    "$$\n",
    "\\begin{bmatrix}\n",
    "1 & 2 \\\\\n",
    "5 & 3 \\\\\n",
    "9 & 4 \\\\\n",
    "13 & 5 \\\\\n",
    "\\end{bmatrix}\n",
    "$$\n",
    "\n",
    "These two example uses of matrices are not in fact as different as they might appear. They can be considered within the same conceptual framework. Just as *x,y* coordinates may represent points in an actual 2-dimensional space (or *x,y,z* coordinates may represent points in a 3-dimensional space), so too can the people represented in the rows of data in our first example be thought of as 'points' in an abstract 'feature space' whose axes are 'shoe size', 'IQ score', and 'clown'. This gives us a more general way of thinking about what matrices typically represent in applied math. The rows often represent the locations of entities in some space (whether a real physical space or an abstract feature space), and the columns represent the dimensions of that space. Many of the calculations and transformations that we apply to data in the process of statistical analysis can also be thought of as geometric operations applied to points in a real physical space, such as rotating them, moving them, squashing them together, etc.\n",
    "\n",
    "Vectors, which we learned about above, can be considered special cases of matrices that have either only one row, in which case the vector is termed a 'row vector' and might represent a single entity such as a person, or only one column, in which case the vector is termed a 'column vector' and might represent the positions of multiple entities along just one scale or dimension.\n",
    "\n",
    "In the context of matrix math, an ordinary lone number (such as just `2`) is often called a [scalar](#scalar), to distinguish it from vectors and matrices. Likewise, a scalar can be considered a special case of a matrix with only one row and only one column; so in the terms we have been using above, a single piece of information about a single entity.\n",
    "\n",
    "So if you are familiar with 'normal' math involving single numbers then like Mr. Jourdain you have in fact already been doing matrix math all this time without knowing it.\n",
    "\n",
    "### Matrix multiplication\n",
    "\n",
    "As we just noted, matrices can be used to represent geometric transformations. How does this work? For many simple transformations, the calculations are also very simple, and may involve for example adding or subtracting some number from all the values in the matrix. But for some transformations we need new mathematical tools that are special to matrices. One of the most important of these is the notion of matrix multiplication: Multiplying a matrix not by some single number but by *another matrix*.\n",
    "\n",
    "How does this work? To multiply one matrix (*A*) by another (*B*), follow these steps:\n",
    "\n",
    "* The number of *columns* in matrix A must be the same as the number of *rows* in matrix B. (If not, multiplication is not defined for the two matrices. This is very different from [scalars](extras/glossary.ipynb#scalar); any single number may be in principle be multiplied by any other.)\n",
    "* Draw the A matrix at the left of your school notebook, and draw the B matrix above and to the right, as in the image below.\n",
    "* Draw a new matrix AB in the space between A and B, where each cell of AB aligns with one row of A and one column of B.\n",
    "* For each combination of row from A and column from B ...\n",
    "  * ... read left to right along the row of A, ...\n",
    "  * ... read down the column of B, ...\n",
    "  * ... and as you do so pair up the corresponding two values from A and B ...\n",
    "  * ... and multiply them together.\n",
    "  * Then sum up all the results of these multiplications and put their sum in the corresponding cell of the new AB matrix.\n",
    "\n",
    "![](images/Matrix_multiplication_diagram_2.svg)\n",
    "\n",
    "(Image source: [Wikimedia Commons](https://commons.wikimedia.org/wiki/File:Matrix_multiplication_diagram_2.svg), GNU Free Documentation License)\n",
    "\n",
    "So an example matrix multiplication might look like this (get out your notebook, follow the steps above, and check the result):\n",
    "\n",
    "$$\n",
    "\\begin{bmatrix}\n",
    "1 & 2 \\\\\n",
    "5 & 3 \\\\\n",
    "9 & 4 \\\\\n",
    "13 & 5 \\\\\n",
    "\\end{bmatrix}\n",
    "\\begin{bmatrix}\n",
    "1 & 2 \\\\\n",
    "3 & 4 \\\\\n",
    "\\end{bmatrix}\n",
    "=\n",
    "\\begin{bmatrix}\n",
    "7 & 10 \\\\\n",
    "14 & 22 \\\\\n",
    "21 & 34 \\\\\n",
    "28 & 46 \\\\\n",
    "\\end{bmatrix}\n",
    "$$\n",
    "\n",
    "#### Rotation\n",
    "\n",
    "Rotation is one example of a geometric transformation that can be represented as a matrix multiplication.\n",
    "\n",
    "For a matrix whose rows are the *x,y* coordinates of some points in a 2-dimensional space, another matrix, a 'rotation matrix', can be used to rotate those coordinates by some angle around the center of the space. When the matrix of coordinates is multiplied by this rotation matrix, the result is a new matrix of points whose values represent the rotated *x,y* coordinates.\n",
    "\n",
    "The rotation matrix for rotation by an angle of $\\theta$ (in [radians](https://en.wikipedia.org/wiki/Radian)) is:\n",
    "\n",
    "$$\n",
    "\\begin{bmatrix}\n",
    "\\cos \\theta & \\sin \\theta \\\\\n",
    "-\\sin \\theta & \\cos \\theta \\\\\n",
    "\\end{bmatrix}\n",
    "$$\n",
    "\n",
    "## Objective\n",
    "\n",
    "Let's take rotation of coordinates as an example and see how to implement it in Python. Our goal is to write a function that rotates a matrix of *x,y* coordinates around some point.\n",
    "\n",
    "* Arguments:\n",
    "  * The matrix of coordinates.\n",
    "  * An angle of rotation.\n",
    "  * The point around which to rotate the coordinates, with a default value of *0,0* (i.e. the 'center' of the coordinate space).\n",
    "* Return value:\n",
    "  * A new matrix of rotated coordinates.\n",
    "\n",
    "Let's also use Python to produce a graph displaying the unrotated and rotated coordinates, so that we can check that our function works correctly.\n",
    "\n",
    "## Arrays\n",
    "\n",
    "As we have done sometimes before, we will build up to our target function step by step. The first thing we need to know is how to represent a matrix in Python.\n",
    "\n",
    "Basic Python does not provide a 'matrix' [data type](extras/glossary.ipynb#type), and there isn't one in the [standard library](standard_library.ipynb) either. But we have already met some Python types that could be used to do the job. Matrices contain multiple values, so we need a data type that can store multiple values. A [list](extras/glossary.ipynb#list) is an obvious first choice. For example, we could represent a matrix as a list, where each entry in the list represents one row, and contains a further list, whose entries represent the values in that row.\n",
    "\n",
    "So we would represent our example matrix of coordinates from above like this:"
   ]
  },
  {
   "cell_type": "code",
   "execution_count": 1,
   "metadata": {},
   "outputs": [],
   "source": [
    "coords_list = [[1.0, 2.0], [5.0, 3.0], [9.0, 4.0], [13.0, 5.0]]"
   ]
  },
  {
   "cell_type": "markdown",
   "metadata": {},
   "source": [
    "[Indexing](extras/glossary.ipynb#index) our list would then give us one row (i.e. one *x,y* point):"
   ]
  },
  {
   "cell_type": "code",
   "execution_count": 2,
   "metadata": {},
   "outputs": [
    {
     "data": {
      "text/plain": [
       "[9.0, 4.0]"
      ]
     },
     "execution_count": 2,
     "metadata": {},
     "output_type": "execute_result"
    }
   ],
   "source": [
    "coords_list[2]"
   ]
  },
  {
   "cell_type": "markdown",
   "metadata": {},
   "source": [
    "But this solution isn't great, for a few reasons. First of all, it makes it quite complicated to apply some mathematical operation to one *column* of the matrix, such as adding some number to the *x* values so as to move the points along the *x* axis. For this, we would have to [loop](extras/glossary.ipynb#loop) through every 'row' in the list and apply the same operation to one of the coordinate values. For example to add `1` to each *x* value:"
   ]
  },
  {
   "cell_type": "code",
   "execution_count": 3,
   "metadata": {},
   "outputs": [
    {
     "data": {
      "text/plain": [
       "[[2.0, 2.0], [6.0, 3.0], [10.0, 4.0], [14.0, 5.0]]"
      ]
     },
     "execution_count": 3,
     "metadata": {},
     "output_type": "execute_result"
    }
   ],
   "source": [
    "for row in coords_list:\n",
    "    row[0] = row[0] + 1\n",
    "    \n",
    "coords_list"
   ]
  },
  {
   "cell_type": "markdown",
   "metadata": {},
   "source": [
    "It would be nicer to have a data type that allows us to index rows and columns so that we can write mathematical expressions like 'add 1 to all the values in the first column' more concisely.\n",
    "\n",
    "Second and more importantly, nothing about the list representation constrains each row to have the same number of columns, as a good matrix should. If we accidentally increase the length of one of the rows, our matrix becomes misshapen and Python does nothing to warn us:"
   ]
  },
  {
   "cell_type": "code",
   "execution_count": 4,
   "metadata": {},
   "outputs": [
    {
     "data": {
      "text/plain": [
       "[[2.0, 2.0, 3.0], [6.0, 3.0], [10.0, 4.0], [14.0, 5.0]]"
      ]
     },
     "execution_count": 4,
     "metadata": {},
     "output_type": "execute_result"
    }
   ],
   "source": [
    "coords_list[0].append(3.0)\n",
    "\n",
    "coords_list"
   ]
  },
  {
   "cell_type": "markdown",
   "metadata": {},
   "source": [
    "And finally, it would also be nice if our matrix were strict about the [type](extras/glossary.ipynb#type) of values it contains. Although it may occasionally make sense for matrices to contain things other than numbers, one thing that almost never makes sense is for a matrix to mix various different types together.\n",
    "\n",
    "Lists, however, will happily mix data of all sorts of different types. For example:"
   ]
  },
  {
   "cell_type": "code",
   "execution_count": 5,
   "metadata": {},
   "outputs": [],
   "source": [
    "crazy_matrix = [[2.4, 'Hi! My name is Mildred.'], [None, True], ['2.4', -9000]]"
   ]
  },
  {
   "cell_type": "markdown",
   "metadata": {},
   "source": [
    "For cases where we want to represent data of a homogeneous [type](extras/glossary.ipynb#type) in rows and columns and we want to be able to carry out mathematical operations on subsets of those rows and columns with simple commands, we need a new data type. In computing, such a data type is often called an [array](extras/glossary.ipynb#array). Arrays store homogeneous values in rows and columns (or more generally in 'grids' that may have more than just two dimensions).\n",
    "\n",
    "### numpy arrays\n",
    "\n",
    "The very popular 'numpy' [package](extras/glossary.ipynb#package) (short for 'numerical Python') adds an array data type. numpy is installed by default as part of Anaconda, so if you installed Python via Anaconda you do not need to do anything to install numpy. All that we need to do in order to use numpy's array type is to [import](extras/glossary.ipynb#import) numpy, then use its `array()` function."
   ]
  },
  {
   "cell_type": "code",
   "execution_count": 6,
   "metadata": {},
   "outputs": [],
   "source": [
    "import numpy\n",
    "\n",
    "coords = numpy.array([[1.0, 2.0], [5.0, 3.0], [9.0, 4.0], [13.0, 5.0]])"
   ]
  },
  {
   "cell_type": "markdown",
   "metadata": {},
   "source": [
    "As you can see from the example above, the input [argument](extras/glossary.ipynb#argument) to `numpy.array()` is a list. If we want to create a 2-dimensional array (i.e. one with rows and columns), then this list should be a list of rows. The `print()` representation of a numpy array helpfully arranges its values visually as rows and columns, allowing us to check that we entered the values for our matrix correctly:"
   ]
  },
  {
   "cell_type": "code",
   "execution_count": 7,
   "metadata": {},
   "outputs": [
    {
     "name": "stdout",
     "output_type": "stream",
     "text": [
      "[[ 1.  2.]\n",
      " [ 5.  3.]\n",
      " [ 9.  4.]\n",
      " [13.  5.]]\n"
     ]
    }
   ],
   "source": [
    "print(coords)"
   ]
  },
  {
   "cell_type": "markdown",
   "metadata": {},
   "source": [
    "numpy arrays have some [attributes](extras/glossary.ipynb#attribute) that store information about their content. The `shape` attribute tells us the number of rows and columns in the array."
   ]
  },
  {
   "cell_type": "code",
   "execution_count": 8,
   "metadata": {},
   "outputs": [
    {
     "data": {
      "text/plain": [
       "(4, 2)"
      ]
     },
     "execution_count": 8,
     "metadata": {},
     "output_type": "execute_result"
    }
   ],
   "source": [
    "coords.shape"
   ]
  },
  {
   "cell_type": "markdown",
   "metadata": {},
   "source": [
    "By convention, rows come first and then columns. This is an arbitrary convention that Python and many other programming languages follow (but in some programming languages columns come first, then rows).\n",
    "\n",
    "Note that we are not limited to working with 2-dimensional arrays (i.e. [matrices](extras/glossary.ipynb#matrix)). If we instead give a simple list of values to `numpy.array()` then we get an array with only one dimension (i.e. a [vector](extras/glossary.ipynb#vector):"
   ]
  },
  {
   "cell_type": "code",
   "execution_count": 9,
   "metadata": {},
   "outputs": [
    {
     "data": {
      "text/plain": [
       "(4,)"
      ]
     },
     "execution_count": 9,
     "metadata": {},
     "output_type": "execute_result"
    }
   ],
   "source": [
    "my_vector = numpy.array([42, 39, 72, 45])\n",
    "\n",
    "my_vector.shape"
   ]
  },
  {
   "cell_type": "markdown",
   "metadata": {},
   "source": [
    "Likewise, if we instead give a list of lists of lists, we get a 3-dimensional array. In this case, `shape` tells us the number of rows, columns, and 'layers' (or however we care to think of the third dimension), in that order:"
   ]
  },
  {
   "cell_type": "code",
   "execution_count": 10,
   "metadata": {},
   "outputs": [
    {
     "data": {
      "text/plain": [
       "(2, 2, 2)"
      ]
     },
     "execution_count": 10,
     "metadata": {},
     "output_type": "execute_result"
    }
   ],
   "source": [
    "my_3d_thing = numpy.array([[[1, 2], [3, 4]], [[5, 6], [7, 8]]])\n",
    "\n",
    "my_3d_thing.shape"
   ]
  },
  {
   "cell_type": "markdown",
   "metadata": {},
   "source": [
    "We may even go beyond 3 dimensions if we wish. But for me, three is already slightly higher than the maximum number of dimensions I can easily think about without hurting myself, so we will stick to vectors and matrices for now.\n",
    "\n",
    "#### Data types\n",
    "\n",
    "Apart from `shape`, the other [attribute](extras/glossary.ipynb#attribute) of a numpy array that we will most commonly want to check is `dtype`, which tells us what [type](extras/glossary.ipynb#type) the values in the array are."
   ]
  },
  {
   "cell_type": "code",
   "execution_count": 11,
   "metadata": {},
   "outputs": [
    {
     "data": {
      "text/plain": [
       "dtype('float64')"
      ]
     },
     "execution_count": 11,
     "metadata": {},
     "output_type": "execute_result"
    }
   ],
   "source": [
    "coords.dtype"
   ]
  },
  {
   "cell_type": "markdown",
   "metadata": {},
   "source": [
    "numpy has its own data types, with names slightly different from those in basic Python, but we don't need to worry about these except for much more complex applications. 'float64' basically means [float](extras/glossary.ipynb#float), and likewise, 'int64' means [int](extras/glossary.ipynb#integer):"
   ]
  },
  {
   "cell_type": "code",
   "execution_count": 12,
   "metadata": {},
   "outputs": [
    {
     "data": {
      "text/plain": [
       "dtype('int64')"
      ]
     },
     "execution_count": 12,
     "metadata": {},
     "output_type": "execute_result"
    }
   ],
   "source": [
    "some_integers = numpy.array([1, 2, 3])\n",
    "\n",
    "some_integers.dtype"
   ]
  },
  {
   "cell_type": "markdown",
   "metadata": {},
   "source": [
    "`numpy.array()` takes note of the types that we give it. If we mix types, then some of the values will be converted implicitly (this implicit type conversion is sometimes called [coercing](extras/glossary.ipynb#coercion) the values to a new type). For example, integers in an array that also contains floats will be 'coerced' to float:"
   ]
  },
  {
   "cell_type": "code",
   "execution_count": 13,
   "metadata": {},
   "outputs": [
    {
     "data": {
      "text/plain": [
       "dtype('float64')"
      ]
     },
     "execution_count": 13,
     "metadata": {},
     "output_type": "execute_result"
    }
   ],
   "source": [
    "some_numbers = numpy.array([1, 2.0, 3])\n",
    "\n",
    "some_numbers.dtype"
   ]
  },
  {
   "cell_type": "code",
   "execution_count": 14,
   "metadata": {},
   "outputs": [
    {
     "data": {
      "text/plain": [
       "array([1., 2., 3.])"
      ]
     },
     "execution_count": 14,
     "metadata": {},
     "output_type": "execute_result"
    }
   ],
   "source": [
    "some_numbers"
   ]
  },
  {
   "cell_type": "markdown",
   "metadata": {},
   "source": [
    "#### Indexing"
   ]
  }
 ],
 "metadata": {
  "kernelspec": {
   "display_name": "Python 3",
   "language": "python",
   "name": "python3"
  },
  "language_info": {
   "codemirror_mode": {
    "name": "ipython",
    "version": 3
   },
   "file_extension": ".py",
   "mimetype": "text/x-python",
   "name": "python",
   "nbconvert_exporter": "python",
   "pygments_lexer": "ipython3",
   "version": "3.6.9"
  },
  "toc": {
   "base_numbering": 1,
   "nav_menu": {},
   "number_sections": false,
   "sideBar": true,
   "skip_h1_title": true,
   "title_cell": "Contents",
   "title_sidebar": "Contents",
   "toc_cell": true,
   "toc_position": {},
   "toc_section_display": true,
   "toc_window_display": false
  }
 },
 "nbformat": 4,
 "nbformat_minor": 4
}
