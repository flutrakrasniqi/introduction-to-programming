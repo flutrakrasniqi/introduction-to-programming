{
 "cells": [
  {
   "cell_type": "markdown",
   "metadata": {
    "toc": true
   },
   "source": [
    "<h1>Contents<span class=\"tocSkip\"></span></h1>\n",
    "<div class=\"toc\"><ul class=\"toc-item\"><li><span><a href=\"#pandas\" data-toc-modified-id=\"pandas-1\">pandas</a></span><ul class=\"toc-item\"><li><span><a href=\"#Loading-data\" data-toc-modified-id=\"Loading-data-1.1\">Loading data</a></span><ul class=\"toc-item\"><li><span><a href=\"#Text\" data-toc-modified-id=\"Text-1.1.1\">Text</a></span></li><li><span><a href=\"#Excel\" data-toc-modified-id=\"Excel-1.1.2\">Excel</a></span></li><li><span><a href=\"#The-internet\" data-toc-modified-id=\"The-internet-1.1.3\">The internet</a></span></li></ul></li><li><span><a href=\"#DataFrames\" data-toc-modified-id=\"DataFrames-1.2\">DataFrames</a></span></li></ul></li></ul></div>"
   ]
  },
  {
   "cell_type": "code",
   "execution_count": 1,
   "metadata": {
    "tags": [
     "remove-cell"
    ]
   },
   "outputs": [],
   "source": [
    "import os\n",
    "\n",
    "def cleanup():\n",
    "    for filename in []:\n",
    "        try:\n",
    "            os.remove(filename)\n",
    "        except FileNotFoundError:\n",
    "            pass\n",
    "\n",
    "os.chdir('examples')\n",
    "cleanup()"
   ]
  },
  {
   "cell_type": "markdown",
   "metadata": {},
   "source": [
    "# Data analysis\n",
    "\n",
    "Our next special topic is how to analyze simple data sets in Python.\n",
    "\n",
    "## pandas\n",
    "\n",
    "As you may have noticed by now, the first step for almost any specialist task in Python is to [import](extras/glossary.ipynb#import) an additional [package](extras/glossary.ipynb#package) that provides some extra functionality. The most popular package for loading and working with tables of data is called `pandas`. We met it briefly already in the lesson on files, when we learned about [delimited text data files](files.ipynb#delimited-text).\n",
    "\n",
    "### Loading data\n",
    "\n",
    "#### Text\n",
    "\n",
    "Recall that a delimited text file stores a table of data as plain text, with one particular character (most often the comma) reserved as a [separator](extras/glossary.ipynb#separator) to mark the boundaries between the columns of the table. Here is an example data file in which the separator is a comma (a *csv* file):"
   ]
  },
  {
   "cell_type": "code",
   "execution_count": 2,
   "metadata": {},
   "outputs": [
    {
     "name": "stdout",
     "output_type": "stream",
     "text": [
      "Bird,HeartRate,Depth,Duration\n",
      "EP19,88.8,5,1.05\n",
      "EP19,103.4,9,1.1833333\n",
      "EP19,97.4,22,1.9166667\n",
      "EP19,85.3,25.5,3.4666667\n",
      "EP19,60.6,30.5,7.0833333\n"
     ]
    }
   ],
   "source": [
    "import os\n",
    "\n",
    "filepath = os.path.join('data', 'penguins.csv')\n",
    "\n",
    "with open(filepath) as f:\n",
    "    for linenum in range(6):\n",
    "        print(f.readline(), end='')"
   ]
  },
  {
   "cell_type": "markdown",
   "metadata": {},
   "source": [
    "This file stores a table of data on the [heart rates of penguins during fishing dives](https://doi.org/10.1242/jeb.013235). Each row represents one dive, with the following columns:\n",
    "\n",
    "* *Bird*: An ID code for the penguin making the dive.\n",
    "* *HeartRate*: The penguin's heart rate during the dive, in beats per minute (bpm).\n",
    "* *Depth*: The depth of the dive (in meters).\n",
    "* *Duration*: The duration of the dive (in minutes).\n",
    "\n",
    "Let's import `pandas` and use its `read_csv()` function to read this file:"
   ]
  },
  {
   "cell_type": "code",
   "execution_count": 3,
   "metadata": {},
   "outputs": [
    {
     "name": "stdout",
     "output_type": "stream",
     "text": [
      "       Bird  HeartRate  Depth   Duration\n",
      "0      EP19       88.8    5.0   1.050000\n",
      "1      EP19      103.4    9.0   1.183333\n",
      "2      EP19       97.4   22.0   1.916667\n",
      "3      EP19       85.3   25.5   3.466667\n",
      "4      EP19       60.6   30.5   7.083333\n",
      "..      ...        ...    ...        ...\n",
      "120  EP3901       48.4  170.0  11.533333\n",
      "121  EP3901       50.8   37.0   8.216667\n",
      "122  EP3901       49.6  160.0  11.300000\n",
      "123  EP3901       56.4  180.0  10.283333\n",
      "124  EP3901       55.2  170.0  10.366667\n",
      "\n",
      "[125 rows x 4 columns]\n"
     ]
    }
   ],
   "source": [
    "import pandas\n",
    "\n",
    "penguins = pandas.read_csv(filepath)\n",
    "\n",
    "print(penguins)"
   ]
  },
  {
   "cell_type": "markdown",
   "metadata": {},
   "source": [
    "#### Excel\n",
    "\n",
    "As well as `read_csv()`, `pandas` provides many functions for reading data from different sources. You may sometimes need to read from a Microsoft Excel spreadsheet file. There is a function for this:"
   ]
  },
  {
   "cell_type": "code",
   "execution_count": 4,
   "metadata": {},
   "outputs": [],
   "source": [
    "penguins_excel = pandas.read_excel(os.path.join('data', 'penguins.xlsx'))"
   ]
  },
  {
   "cell_type": "markdown",
   "metadata": {},
   "source": [
    "`read_excel()` can take additional [arguments](extras/glossary.ipynb#argument) for specifying which sheet of the Excel file to read, which rows or columns to skip, etc. in case your spreadsheet is a little messy. As always with new functions, it is a good idea to seek out and read the [online documentation](https://pandas.pydata.org/pandas-docs/stable/reference/api/pandas.read_excel.html) to see what the possibilities are and whether there are any important defaults.\n",
    "\n",
    "#### The internet\n",
    "\n",
    "Some `pandas` [IO](extras/glossary.ipynb#io) functions can even read from a file stored online. The first [argument](extras/glossary.ipynb#argument) is the [URL](extras/glossary.ipynb#url) to the file:"
   ]
  },
  {
   "cell_type": "code",
   "execution_count": 5,
   "metadata": {},
   "outputs": [],
   "source": [
    "url = 'https://raw.githubusercontent.com/luketudge/introduction-to-programming/master/content/examples/data/penguins.csv'\n",
    "\n",
    "penguins_from_the_internet = pandas.read_csv(url)"
   ]
  },
  {
   "cell_type": "markdown",
   "metadata": {},
   "source": [
    "### DataFrames\n",
    "\n",
    "What [type](extras/glossary.ipynb#type) of object do `pandas`' data reading functions give us?"
   ]
  },
  {
   "cell_type": "code",
   "execution_count": 6,
   "metadata": {},
   "outputs": [
    {
     "data": {
      "text/plain": [
       "pandas.core.frame.DataFrame"
      ]
     },
     "execution_count": 6,
     "metadata": {},
     "output_type": "execute_result"
    }
   ],
   "source": [
    "type(penguins)"
   ]
  },
  {
   "cell_type": "markdown",
   "metadata": {},
   "source": [
    "They give us a 'data frame'."
   ]
  },
  {
   "cell_type": "code",
   "execution_count": 7,
   "metadata": {
    "tags": [
     "remove-cell"
    ]
   },
   "outputs": [],
   "source": [
    "cleanup()"
   ]
  }
 ],
 "metadata": {
  "celltoolbar": "Tags",
  "kernelspec": {
   "display_name": "Python 3",
   "language": "python",
   "name": "python3"
  },
  "language_info": {
   "codemirror_mode": {
    "name": "ipython",
    "version": 3
   },
   "file_extension": ".py",
   "mimetype": "text/x-python",
   "name": "python",
   "nbconvert_exporter": "python",
   "pygments_lexer": "ipython3",
   "version": "3.6.9"
  },
  "toc": {
   "base_numbering": 1,
   "nav_menu": {},
   "number_sections": false,
   "sideBar": true,
   "skip_h1_title": true,
   "title_cell": "Contents",
   "title_sidebar": "Contents",
   "toc_cell": true,
   "toc_position": {},
   "toc_section_display": true,
   "toc_window_display": false
  }
 },
 "nbformat": 4,
 "nbformat_minor": 4
}
