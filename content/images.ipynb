{
 "cells": [
  {
   "cell_type": "markdown",
   "metadata": {
    "toc": true
   },
   "source": [
    "<h1>Contents<span class=\"tocSkip\"></span></h1>\n",
    "<div class=\"toc\"><ul class=\"toc-item\"><li><span><a href=\"#imageio\" data-toc-modified-id=\"imageio-1\">imageio</a></span></li><li><span><a href=\"#Images-as-arrays\" data-toc-modified-id=\"Images-as-arrays-2\">Images as arrays</a></span></li></ul></div>"
   ]
  },
  {
   "cell_type": "code",
   "execution_count": 1,
   "metadata": {
    "tags": [
     "remove-cell"
    ]
   },
   "outputs": [],
   "source": [
    "import os\n",
    "\n",
    "os.chdir('examples')"
   ]
  },
  {
   "cell_type": "markdown",
   "metadata": {},
   "source": [
    "# Images\n",
    "\n",
    "In this lesson, we will learn a bit about how computers represent images, and how we can use Python to manipulate image files.\n",
    "\n",
    "Before you start reading, it may be an interesting exercise to think about how a computer might store an image. As we learned in the [lesson on files](files.ipynb#Encodings), in order to store information computers require some system for converting that information into numbers. How might an image be converted into numbers?\n",
    "\n",
    "As it turns out, there are a few different ways of turning an image into numbers. We will focus on the most common of these. To find out what it is, let's simply load an image into Python and explore the result. Take a look at the example image file [street_scene.jpg](examples/data/street_scene.jpg). This is the image that it contains:\n",
    "\n",
    "![](examples/data/street_scene.jpg)\n",
    "\n",
    "## imageio\n",
    "\n",
    "There are a few ways to load image files into Python, but the `imageio` [package](extras/glossary.ipynb#package) provides the simplest. (The 'io' in `imageio` stands for [input/output](extras/glossary.ipynb#io).)\n",
    "\n",
    "Like all the additional Python packages that we have used so far, `imageio` is included in the default Anaconda installation, so if you installed Anaconda then you will already have it.\n",
    "\n",
    "The `imread()` function reads an image file. The input [argument](extras/glossary.ipynb#argument) to `imread()` is the [path](extras/glossary.ipynb#path) to the file:"
   ]
  },
  {
   "cell_type": "code",
   "execution_count": 2,
   "metadata": {},
   "outputs": [],
   "source": [
    "import os\n",
    "import imageio\n",
    "\n",
    "filepath = os.path.join('data', 'street_scene.jpg')\n",
    "img = imageio.imread(filepath)"
   ]
  },
  {
   "cell_type": "markdown",
   "metadata": {},
   "source": [
    "## Images as arrays\n",
    "\n",
    "So now we can explore the [return value](extras/glossary.ipynb#return) of `imread()`. What sort of object did we get?\n",
    "\n",
    "The first thing we can do to find out is print the result:"
   ]
  },
  {
   "cell_type": "code",
   "execution_count": 3,
   "metadata": {},
   "outputs": [
    {
     "name": "stdout",
     "output_type": "stream",
     "text": [
      "[[[217 208 209]\n",
      "  [216 207 208]\n",
      "  [215 206 207]\n",
      "  ...\n",
      "  [ 76  71  75]\n",
      "  [ 82  77  81]\n",
      "  [ 85  79  83]]\n",
      "\n",
      " [[217 208 209]\n",
      "  [216 207 208]\n",
      "  [216 207 208]\n",
      "  ...\n",
      "  [ 77  72  76]\n",
      "  [ 82  77  81]\n",
      "  [ 84  78  82]]\n",
      "\n",
      " [[217 209 207]\n",
      "  [217 209 207]\n",
      "  [218 210 208]\n",
      "  ...\n",
      "  [ 79  74  78]\n",
      "  [ 83  78  82]\n",
      "  [ 84  78  82]]\n",
      "\n",
      " ...\n",
      "\n",
      " [[171 163 117]\n",
      "  [168 161 117]\n",
      "  [162 155 113]\n",
      "  ...\n",
      "  [ 69  75  87]\n",
      "  [ 72  76  88]\n",
      "  [ 75  78  93]]\n",
      "\n",
      " [[162 157 115]\n",
      "  [159 154 112]\n",
      "  [154 149 111]\n",
      "  ...\n",
      "  [ 69  75  87]\n",
      "  [ 71  75  87]\n",
      "  [ 75  78  93]]\n",
      "\n",
      " [[149 144 104]\n",
      "  [148 145 104]\n",
      "  [147 143 106]\n",
      "  ...\n",
      "  [ 68  75  85]\n",
      "  [ 72  76  88]\n",
      "  [ 76  79  94]]]\n"
     ]
    }
   ],
   "source": [
    "print(img)"
   ]
  },
  {
   "cell_type": "markdown",
   "metadata": {},
   "source": [
    "This looks a lot like an [array](extras/glossary.ipynb#array). Our image has indeed been turned into an array, as we can see from its [type](extras/glossary.ipynb#type):"
   ]
  },
  {
   "cell_type": "code",
   "execution_count": 4,
   "metadata": {},
   "outputs": [
    {
     "data": {
      "text/plain": [
       "imageio.core.util.Array"
      ]
     },
     "execution_count": 4,
     "metadata": {},
     "output_type": "execute_result"
    }
   ],
   "source": [
    "type(img)"
   ]
  },
  {
   "cell_type": "markdown",
   "metadata": {},
   "source": [
    "We are told that it is an `imageio` array rather than a `numpy` array, but this distinction need not concern us here. Our image is essentially a `numpy` array, and everything that we learned about `numpy` arrays in the [lesson on arrays](arrays.ipynb) also applies to our image array.\n",
    "\n",
    "For example, the image array has a `shape` [attribute](extras/glossary.ipynb#attribute):"
   ]
  },
  {
   "cell_type": "code",
   "execution_count": 5,
   "metadata": {},
   "outputs": [
    {
     "data": {
      "text/plain": [
       "(4000, 3000, 3)"
      ]
     },
     "execution_count": 5,
     "metadata": {},
     "output_type": "execute_result"
    }
   ],
   "source": [
    "img.shape"
   ]
  }
 ],
 "metadata": {
  "celltoolbar": "Tags",
  "kernelspec": {
   "display_name": "Python 3",
   "language": "python",
   "name": "python3"
  },
  "language_info": {
   "codemirror_mode": {
    "name": "ipython",
    "version": 3
   },
   "file_extension": ".py",
   "mimetype": "text/x-python",
   "name": "python",
   "nbconvert_exporter": "python",
   "pygments_lexer": "ipython3",
   "version": "3.6.9"
  },
  "toc": {
   "base_numbering": 1,
   "nav_menu": {},
   "number_sections": false,
   "sideBar": true,
   "skip_h1_title": true,
   "title_cell": "Contents",
   "title_sidebar": "Contents",
   "toc_cell": true,
   "toc_position": {},
   "toc_section_display": true,
   "toc_window_display": false
  }
 },
 "nbformat": 4,
 "nbformat_minor": 4
}
