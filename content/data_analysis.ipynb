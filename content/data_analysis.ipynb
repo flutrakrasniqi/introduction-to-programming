{
 "cells": [
  {
   "cell_type": "markdown",
   "metadata": {
    "toc": true
   },
   "source": [
    "<h1>Contents<span class=\"tocSkip\"></span></h1>\n",
    "<div class=\"toc\"><ul class=\"toc-item\"><li><span><a href=\"#pandas\" data-toc-modified-id=\"pandas-1\">pandas</a></span><ul class=\"toc-item\"><li><span><a href=\"#Loading-data\" data-toc-modified-id=\"Loading-data-1.1\">Loading data</a></span><ul class=\"toc-item\"><li><span><a href=\"#Text\" data-toc-modified-id=\"Text-1.1.1\">Text</a></span></li><li><span><a href=\"#Excel\" data-toc-modified-id=\"Excel-1.1.2\">Excel</a></span></li><li><span><a href=\"#The-internet\" data-toc-modified-id=\"The-internet-1.1.3\">The internet</a></span></li></ul></li><li><span><a href=\"#DataFrames\" data-toc-modified-id=\"DataFrames-1.2\">DataFrames</a></span><ul class=\"toc-item\"><li><span><a href=\"#Indexing\" data-toc-modified-id=\"Indexing-1.2.1\">Indexing</a></span><ul class=\"toc-item\"><li><span><a href=\"#Columns\" data-toc-modified-id=\"Columns-1.2.1.1\">Columns</a></span></li><li><span><a href=\"#Rows\" data-toc-modified-id=\"Rows-1.2.1.2\">Rows</a></span></li><li><span><a href=\"#pandas-madness\" data-toc-modified-id=\"pandas-madness-1.2.1.3\">pandas madness</a></span></li></ul></li><li><span><a href=\"#Boolean-indexing\" data-toc-modified-id=\"Boolean-indexing-1.2.2\">Boolean indexing</a></span></li></ul></li><li><span><a href=\"#Summaries\" data-toc-modified-id=\"Summaries-1.3\">Summaries</a></span><ul class=\"toc-item\"><li><span><a href=\"#Numbers\" data-toc-modified-id=\"Numbers-1.3.1\">Numbers</a></span></li><li><span><a href=\"#Categories\" data-toc-modified-id=\"Categories-1.3.2\">Categories</a></span></li><li><span><a href=\"#Grouping\" data-toc-modified-id=\"Grouping-1.3.3\">Grouping</a></span></li></ul></li></ul></li><li><span><a href=\"#Data-visualization\" data-toc-modified-id=\"Data-visualization-2\">Data visualization</a></span><ul class=\"toc-item\"><li><span><a href=\"#matplotlib\" data-toc-modified-id=\"matplotlib-2.1\">matplotlib</a></span></li><li><span><a href=\"#pandas-plots\" data-toc-modified-id=\"pandas-plots-2.2\">pandas plots</a></span></li><li><span><a href=\"#seaborn\" data-toc-modified-id=\"seaborn-2.3\">seaborn</a></span></li><li><span><a href=\"#Saving-figures\" data-toc-modified-id=\"Saving-figures-2.4\">Saving figures</a></span><ul class=\"toc-item\"><li><span><a href=\"#png\" data-toc-modified-id=\"png-2.4.1\">png</a></span></li><li><span><a href=\"#svg\" data-toc-modified-id=\"svg-2.4.2\">svg</a></span></li></ul></li><li><span><a href=\"#bokeh\" data-toc-modified-id=\"bokeh-2.5\">bokeh</a></span><ul class=\"toc-item\"><li><span><a href=\"#Interactivity\" data-toc-modified-id=\"Interactivity-2.5.1\">Interactivity</a></span></li><li><span><a href=\"#Saving-bokeh-figures\" data-toc-modified-id=\"Saving-bokeh-figures-2.5.2\">Saving bokeh figures</a></span></li></ul></li></ul></li><li><span><a href=\"#Statistical-models\" data-toc-modified-id=\"Statistical-models-3\">Statistical models</a></span><ul class=\"toc-item\"><li><span><a href=\"#Predictors\" data-toc-modified-id=\"Predictors-3.1\">Predictors</a></span></li><li><span><a href=\"#Errors\" data-toc-modified-id=\"Errors-3.2\">Errors</a></span><ul class=\"toc-item\"><li><span><a href=\"#Error-distributions\" data-toc-modified-id=\"Error-distributions-3.2.1\">Error distributions</a></span></li></ul></li><li><span><a href=\"#Free-parameters\" data-toc-modified-id=\"Free-parameters-3.3\">Free parameters</a></span></li><li><span><a href=\"#Fitting\" data-toc-modified-id=\"Fitting-3.4\">Fitting</a></span><ul class=\"toc-item\"><li><span><a href=\"#Ordinary-least-squares\" data-toc-modified-id=\"Ordinary-least-squares-3.4.1\">Ordinary least squares</a></span></li></ul></li><li><span><a href=\"#statsmodels\" data-toc-modified-id=\"statsmodels-3.5\">statsmodels</a></span><ul class=\"toc-item\"><li><span><a href=\"#Formulas\" data-toc-modified-id=\"Formulas-3.5.1\">Formulas</a></span></li><li><span><a href=\"#Interpreting-results\" data-toc-modified-id=\"Interpreting-results-3.5.2\">Interpreting results</a></span></li></ul></li><li><span><a href=\"#Visualizing-models\" data-toc-modified-id=\"Visualizing-models-3.6\">Visualizing models</a></span></li><li><span><a href=\"#Checking-models\" data-toc-modified-id=\"Checking-models-3.7\">Checking models</a></span></li><li><span><a href=\"#Non-linearities\" data-toc-modified-id=\"Non-linearities-3.8\">Non-linearities</a></span></li><li><span><a href=\"#Comparing-models\" data-toc-modified-id=\"Comparing-models-3.9\">Comparing models</a></span></li></ul></li></ul></div>"
   ]
  },
  {
   "cell_type": "code",
   "execution_count": 1,
   "metadata": {
    "tags": [
     "remove-cell"
    ]
   },
   "outputs": [],
   "source": [
    "import os\n",
    "\n",
    "def cleanup():\n",
    "    for filename in ['penguins.html', 'penguins.png', 'penguins.svg']:\n",
    "        try:\n",
    "            os.remove(filename)\n",
    "        except FileNotFoundError:\n",
    "            pass\n",
    "\n",
    "os.chdir('examples')\n",
    "cleanup()"
   ]
  },
  {
   "cell_type": "markdown",
   "metadata": {},
   "source": [
    "# Data analysis\n",
    "\n",
    "Our next special topic is how to analyze simple data sets in Python.\n",
    "\n",
    "## pandas\n",
    "\n",
    "As you may have noticed by now, the first step for almost any specialist task in Python is to [import](extras/glossary.ipynb#import) an additional [package](extras/glossary.ipynb#package) that provides some extra functionality. The most popular package for loading and working with tables of data is called `pandas`. We met it briefly already in the lesson on files, when we learned about [delimited text data files](files.ipynb#delimited-text).\n",
    "\n",
    "### Loading data\n",
    "\n",
    "#### Text\n",
    "\n",
    "Recall that a delimited text file stores a table of data as plain text, with one particular character (most often the comma) reserved as a [separator](extras/glossary.ipynb#separator) to mark the boundaries between the columns of the table. Here is an example data file in which the separator is a comma (a *csv* file):"
   ]
  },
  {
   "cell_type": "code",
   "execution_count": 2,
   "metadata": {},
   "outputs": [
    {
     "name": "stdout",
     "output_type": "stream",
     "text": [
      "Bird,HeartRate,Depth,Duration\n",
      "EP19,88.8,5,1.05\n",
      "EP19,103.4,9,1.1833333\n",
      "EP19,97.4,22,1.9166667\n",
      "EP19,85.3,25.5,3.4666667\n",
      "EP19,60.6,30.5,7.0833333\n"
     ]
    }
   ],
   "source": [
    "import os\n",
    "\n",
    "filepath = os.path.join('data', 'penguins.csv')\n",
    "\n",
    "with open(filepath) as f:\n",
    "    for linenum in range(6):\n",
    "        print(f.readline(), end='')"
   ]
  },
  {
   "cell_type": "markdown",
   "metadata": {},
   "source": [
    "This file stores a table of data on the [heart rates of penguins during fishing dives](https://doi.org/10.1242/jeb.013235). Each row represents one dive, with the following columns:\n",
    "\n",
    "* *Bird*: An ID code for the penguin making the dive.\n",
    "* *HeartRate*: The penguin's heart rate during the dive, in beats per minute (bpm).\n",
    "* *Depth*: The depth of the dive (in meters).\n",
    "* *Duration*: The duration of the dive (in minutes).\n",
    "\n",
    "Let's import `pandas` and use its `read_csv()` function to read this file:"
   ]
  },
  {
   "cell_type": "code",
   "execution_count": 3,
   "metadata": {},
   "outputs": [
    {
     "name": "stdout",
     "output_type": "stream",
     "text": [
      "       Bird  HeartRate  Depth   Duration\n",
      "0      EP19       88.8    5.0   1.050000\n",
      "1      EP19      103.4    9.0   1.183333\n",
      "2      EP19       97.4   22.0   1.916667\n",
      "3      EP19       85.3   25.5   3.466667\n",
      "4      EP19       60.6   30.5   7.083333\n",
      "..      ...        ...    ...        ...\n",
      "120  EP3901       48.4  170.0  11.533333\n",
      "121  EP3901       50.8   37.0   8.216667\n",
      "122  EP3901       49.6  160.0  11.300000\n",
      "123  EP3901       56.4  180.0  10.283333\n",
      "124  EP3901       55.2  170.0  10.366667\n",
      "\n",
      "[125 rows x 4 columns]\n"
     ]
    }
   ],
   "source": [
    "import pandas\n",
    "\n",
    "penguins = pandas.read_csv(filepath)\n",
    "\n",
    "print(penguins)"
   ]
  },
  {
   "cell_type": "markdown",
   "metadata": {},
   "source": [
    "(The `...` indicates that some rows have not been shown, in order to keep the printout brief.)\n",
    "\n",
    "#### Excel\n",
    "\n",
    "As well as `read_csv()`, `pandas` provides many functions for reading data from different sources. You may sometimes need to read from a Microsoft Excel spreadsheet file. There is a function for this:"
   ]
  },
  {
   "cell_type": "code",
   "execution_count": 4,
   "metadata": {},
   "outputs": [],
   "source": [
    "penguins_excel = pandas.read_excel(os.path.join('data', 'penguins.xlsx'))"
   ]
  },
  {
   "cell_type": "markdown",
   "metadata": {},
   "source": [
    "`read_excel()` can take additional [arguments](extras/glossary.ipynb#argument) for specifying which sheet of the Excel file to read, which rows or columns to skip, etc. in case your spreadsheet is a little messy. As always with new functions, it is a good idea to seek out and read the [online documentation](https://pandas.pydata.org/pandas-docs/stable/reference/api/pandas.read_excel.html) to see what the possibilities are and whether there are any important defaults.\n",
    "\n",
    "#### The internet\n",
    "\n",
    "Some `pandas` [IO](extras/glossary.ipynb#io) functions can even read from a file stored online. Instead of a file [path](extras/glossary.ipynb#path), we can also give `read_csv()` a [URL](extras/glossary.ipynb#url) that leads to a file on the internet."
   ]
  },
  {
   "cell_type": "code",
   "execution_count": 5,
   "metadata": {},
   "outputs": [],
   "source": [
    "url = 'https://raw.githubusercontent.com/luketudge/introduction-to-programming/master/content/examples/data/penguins.csv'\n",
    "\n",
    "penguins_from_the_internet = pandas.read_csv(url)"
   ]
  },
  {
   "cell_type": "markdown",
   "metadata": {},
   "source": [
    "### DataFrames\n",
    "\n",
    "What [type](extras/glossary.ipynb#type) of object do `pandas`' read functions give us?"
   ]
  },
  {
   "cell_type": "code",
   "execution_count": 6,
   "metadata": {},
   "outputs": [
    {
     "data": {
      "text/plain": [
       "pandas.core.frame.DataFrame"
      ]
     },
     "execution_count": 6,
     "metadata": {},
     "output_type": "execute_result"
    }
   ],
   "source": [
    "type(penguins)"
   ]
  },
  {
   "cell_type": "markdown",
   "metadata": {},
   "source": [
    "They give us a 'data frame'. A [data frame](extras/glossary.ipynb#dataframe) is very similar to a [matrix](extras/glossary.ipynb#matrix). Like a matrix, a data frame stores values in a 'grid' of rows and columns. But whereas the structure of a matrix may represent all sorts of things, the roles of rows and columns are slightly more specific in a data frame.\n",
    "\n",
    "Each *row* of a data frame represents one 'observation'. An observation is some coherent entity or event for which information was recorded. Each *column* of a data frame represents one measurement or piece of information that was recorded for each of the observations. For example, the observations in a data frame might be people, for whom some physical or demographic measurements were made, or they might be events like purchases in a store, for each of which a customer ID, product, price, etc. were recorded. In the penguins data frame, the observations are dives. (Note that the observations are not penguins, as it might be tempting to think; depth and duration are clearly attributes of individual dives, not of penguins).\n",
    "\n",
    "Each row of a data frame may contain values of heterogeneous [types](extras/glossary.ipynb#type), since not every piece of information recorded about each observation is necessarily of the same kind. For example, the penguins data frame records a [string](extras/glossary.ipynb#string) ID for the bird making the dive, but the other values are [floats](extras/glossary.ipynb#float). The values in a single column *are* necessarily of the same type, since we usually want to compare them with each other. For example, we would not be able to compare the dive depths of different penguins if some depths were recorded as floats, and others as strings such as `'quite deep'` or `'really deep'`.\n",
    "\n",
    "#### Indexing\n",
    "\n",
    "##### Columns\n",
    "\n",
    "We can get individual columns from a `pandas.DataFrame` using the same square parenthesis [indexing](extras/glossary.ipynb#index) as for other Python types. For example, to get a single column, the index is just the name of the column, as a [string](extras/glossary.ipynb#string):"
   ]
  },
  {
   "cell_type": "code",
   "execution_count": 7,
   "metadata": {},
   "outputs": [
    {
     "name": "stdout",
     "output_type": "stream",
     "text": [
      "0        5.0\n",
      "1        9.0\n",
      "2       22.0\n",
      "3       25.5\n",
      "4       30.5\n",
      "       ...  \n",
      "120    170.0\n",
      "121     37.0\n",
      "122    160.0\n",
      "123    180.0\n",
      "124    170.0\n",
      "Name: Depth, Length: 125, dtype: float64\n"
     ]
    }
   ],
   "source": [
    "print(penguins['Depth'])"
   ]
  },
  {
   "cell_type": "markdown",
   "metadata": {},
   "source": [
    "As we can see in the output above, individual columns have a `dtype` [attribute](extras/glossary.ipynb#attribute) just as `numpy` [arrays](arrays.ipynb#data-types) do:"
   ]
  },
  {
   "cell_type": "code",
   "execution_count": 8,
   "metadata": {},
   "outputs": [
    {
     "data": {
      "text/plain": [
       "dtype('float64')"
      ]
     },
     "execution_count": 8,
     "metadata": {},
     "output_type": "execute_result"
    }
   ],
   "source": [
    "penguins['Depth'].dtype"
   ]
  },
  {
   "cell_type": "markdown",
   "metadata": {},
   "source": [
    "Any column that does not contain only numbers `pandas` will treat as being of data type 'object' (abbreviated to 'O'), which is a sort of catch-all data type for non-numbers. In practice, this usually means [strings](extras/glossary.ipynb#string), as is the case for example for the 'Bird' column in the penguins data frame:"
   ]
  },
  {
   "cell_type": "code",
   "execution_count": 9,
   "metadata": {},
   "outputs": [
    {
     "data": {
      "text/plain": [
       "dtype('O')"
      ]
     },
     "execution_count": 9,
     "metadata": {},
     "output_type": "execute_result"
    }
   ],
   "source": [
    "penguins['Bird'].dtype"
   ]
  },
  {
   "cell_type": "markdown",
   "metadata": {},
   "source": [
    "We can get multiple columns using a [list](extras/glossary.ipynb#list) of column names. Note the double square parentheses. The outer parentheses are for indexing, and the inner parentheses indicate that the index is a list:"
   ]
  },
  {
   "cell_type": "code",
   "execution_count": 10,
   "metadata": {},
   "outputs": [
    {
     "name": "stdout",
     "output_type": "stream",
     "text": [
      "     Depth   Duration\n",
      "0      5.0   1.050000\n",
      "1      9.0   1.183333\n",
      "2     22.0   1.916667\n",
      "3     25.5   3.466667\n",
      "4     30.5   7.083333\n",
      "..     ...        ...\n",
      "120  170.0  11.533333\n",
      "121   37.0   8.216667\n",
      "122  160.0  11.300000\n",
      "123  180.0  10.283333\n",
      "124  170.0  10.366667\n",
      "\n",
      "[125 rows x 2 columns]\n"
     ]
    }
   ],
   "source": [
    "print(penguins[['Depth', 'Duration']])"
   ]
  },
  {
   "cell_type": "markdown",
   "metadata": {},
   "source": [
    "If we ever need to check what columns a `pandas.DataFrame` contains, the `columns` attribute can tell us:"
   ]
  },
  {
   "cell_type": "code",
   "execution_count": 11,
   "metadata": {},
   "outputs": [
    {
     "data": {
      "text/plain": [
       "Index(['Bird', 'HeartRate', 'Depth', 'Duration'], dtype='object')"
      ]
     },
     "execution_count": 11,
     "metadata": {},
     "output_type": "execute_result"
    }
   ],
   "source": [
    "penguins.columns"
   ]
  },
  {
   "cell_type": "markdown",
   "metadata": {},
   "source": [
    "##### Rows\n",
    "\n",
    "Whereas indexing columns from a `pandas.DataFrame` is relatively straightforward, indexing rows presents some frustrating subtleties. Let's take a careful look.\n",
    "\n",
    "We can use a [slice](extras/glossary.ipynb#slice) index to get a range of rows, just as we would to get a range of entries from a [list](extras/glossary.ipynb#list). This at least is straightforward:"
   ]
  },
  {
   "cell_type": "code",
   "execution_count": 12,
   "metadata": {},
   "outputs": [
    {
     "name": "stdout",
     "output_type": "stream",
     "text": [
      "    Bird  HeartRate  Depth   Duration\n",
      "5   EP19       77.6   32.5   4.766667\n",
      "6   EP19       44.3   38.0   9.133333\n",
      "7   EP19       32.8   32.0  11.000000\n",
      "8   EP19       94.2    6.0   1.316667\n",
      "9   EP19       99.8   10.5   1.483333\n",
      "10  EP19      104.5    6.0   1.166667\n",
      "11  EP19       78.0   19.5   2.716667\n",
      "12  EP19       54.2   27.5   7.250000\n",
      "13  EP19       79.0   33.5   4.783333\n",
      "14  EP19       42.9   40.5  11.866667\n"
     ]
    }
   ],
   "source": [
    "print(penguins[5:15])"
   ]
  },
  {
   "cell_type": "markdown",
   "metadata": {},
   "source": [
    "However, not all is as it seems here. The first frustration is that we *must* use a slice to index rows like this. We cannot get a single row using a single integer as an index, as we would for a list. And the error message that we get if we try to do this is a horrible mess:"
   ]
  },
  {
   "cell_type": "code",
   "execution_count": 13,
   "metadata": {
    "tags": [
     "raises-exception"
    ]
   },
   "outputs": [
    {
     "ename": "KeyError",
     "evalue": "5",
     "output_type": "error",
     "traceback": [
      "\u001b[0;31m---------------------------------------------------------------------------\u001b[0m",
      "\u001b[0;31mKeyError\u001b[0m                                  Traceback (most recent call last)",
      "\u001b[0;32m~/GitHub/introduction-to-programming/venv/lib/python3.6/site-packages/pandas/core/indexes/base.py\u001b[0m in \u001b[0;36mget_loc\u001b[0;34m(self, key, method, tolerance)\u001b[0m\n\u001b[1;32m   2645\u001b[0m             \u001b[0;32mtry\u001b[0m\u001b[0;34m:\u001b[0m\u001b[0;34m\u001b[0m\u001b[0;34m\u001b[0m\u001b[0m\n\u001b[0;32m-> 2646\u001b[0;31m                 \u001b[0;32mreturn\u001b[0m \u001b[0mself\u001b[0m\u001b[0;34m.\u001b[0m\u001b[0m_engine\u001b[0m\u001b[0;34m.\u001b[0m\u001b[0mget_loc\u001b[0m\u001b[0;34m(\u001b[0m\u001b[0mkey\u001b[0m\u001b[0;34m)\u001b[0m\u001b[0;34m\u001b[0m\u001b[0;34m\u001b[0m\u001b[0m\n\u001b[0m\u001b[1;32m   2647\u001b[0m             \u001b[0;32mexcept\u001b[0m \u001b[0mKeyError\u001b[0m\u001b[0;34m:\u001b[0m\u001b[0;34m\u001b[0m\u001b[0;34m\u001b[0m\u001b[0m\n",
      "\u001b[0;32mpandas/_libs/index.pyx\u001b[0m in \u001b[0;36mpandas._libs.index.IndexEngine.get_loc\u001b[0;34m()\u001b[0m\n",
      "\u001b[0;32mpandas/_libs/index.pyx\u001b[0m in \u001b[0;36mpandas._libs.index.IndexEngine.get_loc\u001b[0;34m()\u001b[0m\n",
      "\u001b[0;32mpandas/_libs/hashtable_class_helper.pxi\u001b[0m in \u001b[0;36mpandas._libs.hashtable.PyObjectHashTable.get_item\u001b[0;34m()\u001b[0m\n",
      "\u001b[0;32mpandas/_libs/hashtable_class_helper.pxi\u001b[0m in \u001b[0;36mpandas._libs.hashtable.PyObjectHashTable.get_item\u001b[0;34m()\u001b[0m\n",
      "\u001b[0;31mKeyError\u001b[0m: 5",
      "\nDuring handling of the above exception, another exception occurred:\n",
      "\u001b[0;31mKeyError\u001b[0m                                  Traceback (most recent call last)",
      "\u001b[0;32m<ipython-input-13-f30fa6d4b5e5>\u001b[0m in \u001b[0;36m<module>\u001b[0;34m\u001b[0m\n\u001b[0;32m----> 1\u001b[0;31m \u001b[0mpenguins\u001b[0m\u001b[0;34m[\u001b[0m\u001b[0;36m5\u001b[0m\u001b[0;34m]\u001b[0m\u001b[0;34m\u001b[0m\u001b[0;34m\u001b[0m\u001b[0m\n\u001b[0m",
      "\u001b[0;32m~/GitHub/introduction-to-programming/venv/lib/python3.6/site-packages/pandas/core/frame.py\u001b[0m in \u001b[0;36m__getitem__\u001b[0;34m(self, key)\u001b[0m\n\u001b[1;32m   2798\u001b[0m             \u001b[0;32mif\u001b[0m \u001b[0mself\u001b[0m\u001b[0;34m.\u001b[0m\u001b[0mcolumns\u001b[0m\u001b[0;34m.\u001b[0m\u001b[0mnlevels\u001b[0m \u001b[0;34m>\u001b[0m \u001b[0;36m1\u001b[0m\u001b[0;34m:\u001b[0m\u001b[0;34m\u001b[0m\u001b[0;34m\u001b[0m\u001b[0m\n\u001b[1;32m   2799\u001b[0m                 \u001b[0;32mreturn\u001b[0m \u001b[0mself\u001b[0m\u001b[0;34m.\u001b[0m\u001b[0m_getitem_multilevel\u001b[0m\u001b[0;34m(\u001b[0m\u001b[0mkey\u001b[0m\u001b[0;34m)\u001b[0m\u001b[0;34m\u001b[0m\u001b[0;34m\u001b[0m\u001b[0m\n\u001b[0;32m-> 2800\u001b[0;31m             \u001b[0mindexer\u001b[0m \u001b[0;34m=\u001b[0m \u001b[0mself\u001b[0m\u001b[0;34m.\u001b[0m\u001b[0mcolumns\u001b[0m\u001b[0;34m.\u001b[0m\u001b[0mget_loc\u001b[0m\u001b[0;34m(\u001b[0m\u001b[0mkey\u001b[0m\u001b[0;34m)\u001b[0m\u001b[0;34m\u001b[0m\u001b[0;34m\u001b[0m\u001b[0m\n\u001b[0m\u001b[1;32m   2801\u001b[0m             \u001b[0;32mif\u001b[0m \u001b[0mis_integer\u001b[0m\u001b[0;34m(\u001b[0m\u001b[0mindexer\u001b[0m\u001b[0;34m)\u001b[0m\u001b[0;34m:\u001b[0m\u001b[0;34m\u001b[0m\u001b[0;34m\u001b[0m\u001b[0m\n\u001b[1;32m   2802\u001b[0m                 \u001b[0mindexer\u001b[0m \u001b[0;34m=\u001b[0m \u001b[0;34m[\u001b[0m\u001b[0mindexer\u001b[0m\u001b[0;34m]\u001b[0m\u001b[0;34m\u001b[0m\u001b[0;34m\u001b[0m\u001b[0m\n",
      "\u001b[0;32m~/GitHub/introduction-to-programming/venv/lib/python3.6/site-packages/pandas/core/indexes/base.py\u001b[0m in \u001b[0;36mget_loc\u001b[0;34m(self, key, method, tolerance)\u001b[0m\n\u001b[1;32m   2646\u001b[0m                 \u001b[0;32mreturn\u001b[0m \u001b[0mself\u001b[0m\u001b[0;34m.\u001b[0m\u001b[0m_engine\u001b[0m\u001b[0;34m.\u001b[0m\u001b[0mget_loc\u001b[0m\u001b[0;34m(\u001b[0m\u001b[0mkey\u001b[0m\u001b[0;34m)\u001b[0m\u001b[0;34m\u001b[0m\u001b[0;34m\u001b[0m\u001b[0m\n\u001b[1;32m   2647\u001b[0m             \u001b[0;32mexcept\u001b[0m \u001b[0mKeyError\u001b[0m\u001b[0;34m:\u001b[0m\u001b[0;34m\u001b[0m\u001b[0;34m\u001b[0m\u001b[0m\n\u001b[0;32m-> 2648\u001b[0;31m                 \u001b[0;32mreturn\u001b[0m \u001b[0mself\u001b[0m\u001b[0;34m.\u001b[0m\u001b[0m_engine\u001b[0m\u001b[0;34m.\u001b[0m\u001b[0mget_loc\u001b[0m\u001b[0;34m(\u001b[0m\u001b[0mself\u001b[0m\u001b[0;34m.\u001b[0m\u001b[0m_maybe_cast_indexer\u001b[0m\u001b[0;34m(\u001b[0m\u001b[0mkey\u001b[0m\u001b[0;34m)\u001b[0m\u001b[0;34m)\u001b[0m\u001b[0;34m\u001b[0m\u001b[0;34m\u001b[0m\u001b[0m\n\u001b[0m\u001b[1;32m   2649\u001b[0m         \u001b[0mindexer\u001b[0m \u001b[0;34m=\u001b[0m \u001b[0mself\u001b[0m\u001b[0;34m.\u001b[0m\u001b[0mget_indexer\u001b[0m\u001b[0;34m(\u001b[0m\u001b[0;34m[\u001b[0m\u001b[0mkey\u001b[0m\u001b[0;34m]\u001b[0m\u001b[0;34m,\u001b[0m \u001b[0mmethod\u001b[0m\u001b[0;34m=\u001b[0m\u001b[0mmethod\u001b[0m\u001b[0;34m,\u001b[0m \u001b[0mtolerance\u001b[0m\u001b[0;34m=\u001b[0m\u001b[0mtolerance\u001b[0m\u001b[0;34m)\u001b[0m\u001b[0;34m\u001b[0m\u001b[0;34m\u001b[0m\u001b[0m\n\u001b[1;32m   2650\u001b[0m         \u001b[0;32mif\u001b[0m \u001b[0mindexer\u001b[0m\u001b[0;34m.\u001b[0m\u001b[0mndim\u001b[0m \u001b[0;34m>\u001b[0m \u001b[0;36m1\u001b[0m \u001b[0;32mor\u001b[0m \u001b[0mindexer\u001b[0m\u001b[0;34m.\u001b[0m\u001b[0msize\u001b[0m \u001b[0;34m>\u001b[0m \u001b[0;36m1\u001b[0m\u001b[0;34m:\u001b[0m\u001b[0;34m\u001b[0m\u001b[0;34m\u001b[0m\u001b[0m\n",
      "\u001b[0;32mpandas/_libs/index.pyx\u001b[0m in \u001b[0;36mpandas._libs.index.IndexEngine.get_loc\u001b[0;34m()\u001b[0m\n",
      "\u001b[0;32mpandas/_libs/index.pyx\u001b[0m in \u001b[0;36mpandas._libs.index.IndexEngine.get_loc\u001b[0;34m()\u001b[0m\n",
      "\u001b[0;32mpandas/_libs/hashtable_class_helper.pxi\u001b[0m in \u001b[0;36mpandas._libs.hashtable.PyObjectHashTable.get_item\u001b[0;34m()\u001b[0m\n",
      "\u001b[0;32mpandas/_libs/hashtable_class_helper.pxi\u001b[0m in \u001b[0;36mpandas._libs.hashtable.PyObjectHashTable.get_item\u001b[0;34m()\u001b[0m\n",
      "\u001b[0;31mKeyError\u001b[0m: 5"
     ]
    }
   ],
   "source": [
    "penguins[5]"
   ]
  },
  {
   "cell_type": "markdown",
   "metadata": {},
   "source": [
    "We can patch up this limitation by using a slice that contains only one row. For example:"
   ]
  },
  {
   "cell_type": "code",
   "execution_count": 14,
   "metadata": {},
   "outputs": [
    {
     "name": "stdout",
     "output_type": "stream",
     "text": [
      "   Bird  HeartRate  Depth  Duration\n",
      "5  EP19       77.6   32.5  4.766667\n"
     ]
    }
   ],
   "source": [
    "print(penguins[5:6])"
   ]
  },
  {
   "cell_type": "markdown",
   "metadata": {},
   "source": [
    "##### pandas madness\n",
    "\n",
    "The astute question to ask here is of course: Why? Why can't we get a single row of a `pandas.DataFrame` just as easily as getting a single entry from a list?\n",
    "\n",
    "The reason (though whether you consider it a *good* reason is for you to decide) is that `pandas` somewhat tries to second-guess what the user wants when they index a data frame. If we use a [slice](extras/glossary.ipynb#slice) index, then `pandas` assumes we want a subset of row numbers, but if we use anything else as the index, such as a single value or a list, then pandas assumes we want a column or subset of columns.\n",
    "\n",
    "So when we asked for `penguins[5]` above, `pandas` actually tried to get a column whose name is the integer `5`. And of course there is no such column in our data frame.\n",
    "\n",
    "###### iloc\n",
    "\n",
    "If we want to index rows and columns, it is best not to let `pandas` second-guess what we are trying to do. Instead, we should tell `pandas` explicitly whether our index is a position or a name. `pandas`' system for doing this is a little unintuitive. A `pandas.DataFrame` has two different [attributes](extras/glossary.ipynb#attribute) for accessing the data by position or by name. These attributes can be indexed.\n",
    "\n",
    "The `iloc` attribute stores the data by position ('`iloc`' is an abbreviation of 'integer location'). So the explicit way to get row number `5` without `5` being interpreted as a column name is to apply the index `[5]` to the `iloc` attribute instead of to the data frame itself:"
   ]
  },
  {
   "cell_type": "code",
   "execution_count": 15,
   "metadata": {},
   "outputs": [
    {
     "data": {
      "text/plain": [
       "Bird            EP19\n",
       "HeartRate       77.6\n",
       "Depth           32.5\n",
       "Duration     4.76667\n",
       "Name: 5, dtype: object"
      ]
     },
     "execution_count": 15,
     "metadata": {},
     "output_type": "execute_result"
    }
   ],
   "source": [
    "penguins.iloc[5]"
   ]
  },
  {
   "cell_type": "markdown",
   "metadata": {},
   "source": [
    "The indexing attributes also allow for a *row,column* pair of indices, just like a `numpy` [array](extras/glossary.ipynb#array) does. The first index refers to the row, and the second to the column.\n",
    "\n",
    "So for example to get the value in row `5`, column `2`:"
   ]
  },
  {
   "cell_type": "code",
   "execution_count": 16,
   "metadata": {},
   "outputs": [
    {
     "data": {
      "text/plain": [
       "32.5"
      ]
     },
     "execution_count": 16,
     "metadata": {},
     "output_type": "execute_result"
    }
   ],
   "source": [
    "penguins.iloc[5, 2]"
   ]
  },
  {
   "cell_type": "markdown",
   "metadata": {},
   "source": [
    "But it is only rarely useful to get columns by position. Columns usually have meaningful names, in which case we should use those instead.\n",
    "\n",
    "###### loc\n",
    "\n",
    "If we want to get rows and columns by name and not by position, the corresponding attribute for this is called `loc` (a not very helpful abbreviation of just 'location').\n",
    "\n",
    "We have seen that columns have names, but do the rows also have names? Indeed they do. The names of the rows are simply the same as their positions. (Though there are some rare cases in which the rows may have been assigned alternative names).\n",
    "\n",
    "So somewhat confusingly, both `iloc` and `loc` give the same result when we just ask for a row, because the integer index is both the position and the name of the row:"
   ]
  },
  {
   "cell_type": "code",
   "execution_count": 17,
   "metadata": {},
   "outputs": [
    {
     "data": {
      "text/plain": [
       "Bird            EP19\n",
       "HeartRate       77.6\n",
       "Depth           32.5\n",
       "Duration     4.76667\n",
       "Name: 5, dtype: object"
      ]
     },
     "execution_count": 17,
     "metadata": {},
     "output_type": "execute_result"
    }
   ],
   "source": [
    "penguins.loc[5]"
   ]
  },
  {
   "cell_type": "markdown",
   "metadata": {},
   "source": [
    "But `loc` allows us to additionally index one or more columns by name, which is its real advantage:"
   ]
  },
  {
   "cell_type": "code",
   "execution_count": 18,
   "metadata": {},
   "outputs": [
    {
     "data": {
      "text/plain": [
       "4.7666667"
      ]
     },
     "execution_count": 18,
     "metadata": {},
     "output_type": "execute_result"
    }
   ],
   "source": [
    "penguins.loc[5, 'Duration']"
   ]
  },
  {
   "cell_type": "code",
   "execution_count": 19,
   "metadata": {},
   "outputs": [
    {
     "data": {
      "text/plain": [
       "Depth          32.5\n",
       "Duration    4.76667\n",
       "Name: 5, dtype: object"
      ]
     },
     "execution_count": 19,
     "metadata": {},
     "output_type": "execute_result"
    }
   ],
   "source": [
    "penguins.loc[5, ['Depth', 'Duration']]"
   ]
  },
  {
   "cell_type": "markdown",
   "metadata": {},
   "source": [
    "There is one final important subtlety to note about the `loc` and `iloc` attributes. To see what it is, let's first [assign](extras/glossary.ipynb#assignment) a subset of rows into a new data frame variable:"
   ]
  },
  {
   "cell_type": "code",
   "execution_count": 20,
   "metadata": {},
   "outputs": [
    {
     "name": "stdout",
     "output_type": "stream",
     "text": [
      "    Bird  HeartRate  Depth   Duration\n",
      "5   EP19       77.6   32.5   4.766667\n",
      "6   EP19       44.3   38.0   9.133333\n",
      "7   EP19       32.8   32.0  11.000000\n",
      "8   EP19       94.2    6.0   1.316667\n",
      "9   EP19       99.8   10.5   1.483333\n",
      "10  EP19      104.5    6.0   1.166667\n",
      "11  EP19       78.0   19.5   2.716667\n",
      "12  EP19       54.2   27.5   7.250000\n",
      "13  EP19       79.0   33.5   4.783333\n",
      "14  EP19       42.9   40.5  11.866667\n"
     ]
    }
   ],
   "source": [
    "penguins_subset = penguins[5:15]\n",
    "\n",
    "print(penguins_subset)"
   ]
  },
  {
   "cell_type": "markdown",
   "metadata": {},
   "source": [
    "As you can see from the printout above, the rows in the new smaller data frame retain their original names. An important consequence of this is that once we have taken a subset of rows, the row names are no longer the same as the row positions. This difference shows up when we use the `iloc` and `loc` indexing methods.\n",
    "\n",
    "Since `iloc` gets rows by position, `iloc[5]` still gets us the sixth row, but in our subset, this row has the name `10`:"
   ]
  },
  {
   "cell_type": "code",
   "execution_count": 21,
   "metadata": {},
   "outputs": [
    {
     "data": {
      "text/plain": [
       "Bird            EP19\n",
       "HeartRate      104.5\n",
       "Depth              6\n",
       "Duration     1.16667\n",
       "Name: 10, dtype: object"
      ]
     },
     "execution_count": 21,
     "metadata": {},
     "output_type": "execute_result"
    }
   ],
   "source": [
    "penguins_subset.iloc[5]"
   ]
  },
  {
   "cell_type": "markdown",
   "metadata": {},
   "source": [
    "`loc`, on the other hand, gets rows by name, and the names now refer to the positions in the *original* data frame, so `iloc[5]` gets us the row that was called `5` in the original data frame:"
   ]
  },
  {
   "cell_type": "code",
   "execution_count": 22,
   "metadata": {},
   "outputs": [
    {
     "data": {
      "text/plain": [
       "Bird            EP19\n",
       "HeartRate       77.6\n",
       "Depth           32.5\n",
       "Duration     4.76667\n",
       "Name: 5, dtype: object"
      ]
     },
     "execution_count": 22,
     "metadata": {},
     "output_type": "execute_result"
    }
   ],
   "source": [
    "penguins_subset.loc[5]"
   ]
  },
  {
   "cell_type": "markdown",
   "metadata": {},
   "source": [
    "Yes, you read all that correctly:\n",
    "\n",
    "* Indexing a `pandas.DataFrame` does something very different depending on whether the index is a slice or a single value.\n",
    "* In any case, the recommended way of indexing is to index an *attribute* of the data frame rather than the data frame itself.\n",
    "* And to cap it all, these attributes have such fabulously clear and intuitive names as `loc` and `iloc`!\n",
    "\n",
    "If you are now thoroughly confused, you are in good company. Enter a question or complaint about `pandas` indexing into an internet search engine and you will discover a rich literature of lamentations. Indexing is among a handful of irritating minor quirks in the design of the `pandas` package. It probably could have been thought through a little more carefully, but `pandas` is otherwise so useful and has become so widely used that it would now be difficult for the developers to change it and risk breaking all the great data analysis programs that have been written with `pandas` so far. So we are stuck with it, and must console ourselves by finding ever more creative ways of complaining about it on the internet.\n",
    "\n",
    "![](images/pandas_chaos.jpg)\n",
    "\n",
    "(Image source: Mei 'Nanny Mei' Yan, [Chengdu Research Base of Giant Panda Breeding](http://www.panda.org.cn/english))\n",
    "\n",
    "#### Boolean indexing\n",
    "\n",
    "I have perhaps been a little harsh on `pandas`. Its somewhat messy methods for row indexing are not such a big deal if we bear in mind that selecting rows by position is not actually such a common thing to want to do in data analysis. After all, the rows of a data frame are often arranged in an arbitrary order; it is the values stored in the rows that gives them meaning, not their position in the data frame.\n",
    "\n",
    "A much more common task in data analysis is to select rows based on some condition concerning their values. For example, in the penguins data we might want to work with all the rows that represent dives deeper than 150 meters. We would need to get all the rows that have a value greater than `150` in the 'Depth' column, and the position of those rows is irrelevant.\n",
    "\n",
    "In the [lesson on conditions](conditions.ipynb#logic), we learned how to write logical statements to ask whether a certain condition holds. We can use a column of a `pandas.DataFrame` in the same kind of statement. The result is a sequence of [boolean](extras/glossary.ipynb#boolean) values (i.e. `True` or `False`), one for each row in the data frame, stating whether the condition holds for that row.\n",
    "\n",
    "For example:"
   ]
  },
  {
   "cell_type": "code",
   "execution_count": 23,
   "metadata": {},
   "outputs": [
    {
     "data": {
      "text/plain": [
       "0      False\n",
       "1      False\n",
       "2      False\n",
       "3      False\n",
       "4      False\n",
       "       ...  \n",
       "120     True\n",
       "121    False\n",
       "122     True\n",
       "123     True\n",
       "124     True\n",
       "Name: Depth, Length: 125, dtype: bool"
      ]
     },
     "execution_count": 23,
     "metadata": {},
     "output_type": "execute_result"
    }
   ],
   "source": [
    "penguins['Depth'] > 150"
   ]
  },
  {
   "cell_type": "markdown",
   "metadata": {},
   "source": [
    "These statements can in turn be used as indices (directly with the data frame, not with `loc` or `iloc`) to select those rows where the statement is `True`. For example:"
   ]
  },
  {
   "cell_type": "code",
   "execution_count": 24,
   "metadata": {},
   "outputs": [
    {
     "name": "stdout",
     "output_type": "stream",
     "text": [
      "         Bird  HeartRate  Depth   Duration\n",
      "32   EP432001       47.8  170.0  10.033333\n",
      "33   EP432001       44.9  160.0   9.983333\n",
      "46   EP432001       48.6  160.0   7.466667\n",
      "47   EP432001       43.8  160.0   8.000000\n",
      "113    EP3901       77.5  225.0   7.466667\n",
      "114    EP3901       71.6  225.0   8.616667\n",
      "117    EP3901       50.6  175.0  10.783333\n",
      "119    EP3901       42.1  165.0  13.533333\n",
      "120    EP3901       48.4  170.0  11.533333\n",
      "122    EP3901       49.6  160.0  11.300000\n",
      "123    EP3901       56.4  180.0  10.283333\n",
      "124    EP3901       55.2  170.0  10.366667\n"
     ]
    }
   ],
   "source": [
    "print(penguins[penguins['Depth'] > 150])"
   ]
  },
  {
   "cell_type": "markdown",
   "metadata": {},
   "source": [
    "The additional [operators](extras/glossary.ipynb#operator) `&` (AND) and `|` (OR) can be used to combine multiple conditions.\n",
    "\n",
    "For example if we want all the rows representing dives that were fairly deep and also quite short:"
   ]
  },
  {
   "cell_type": "code",
   "execution_count": 25,
   "metadata": {},
   "outputs": [
    {
     "name": "stdout",
     "output_type": "stream",
     "text": [
      "        Bird  HeartRate  Depth  Duration\n",
      "21      EP22       97.3   66.5  2.316667\n",
      "38  EP432001       68.1  100.0  3.350000\n"
     ]
    }
   ],
   "source": [
    "print(penguins[(penguins['Depth'] > 50) & (penguins['Duration'] < 5)])"
   ]
  },
  {
   "cell_type": "markdown",
   "metadata": {},
   "source": [
    "This 'boolean indexing' is much more commonly useful than indexing by row number.\n",
    "\n",
    "### Summaries\n",
    "\n",
    "There is more good news about `pandas`. A `pandas.DataFrame` has a few really useful [methods](extras/glossary.ipynb#method) for producing summaries of the data.\n",
    "\n",
    "Often one of the first steps when exploring some new data is to get an idea of the spread or 'distribution' of the different values in each column. We might want to know what the lowest and highest values are, what the most common values are, and so on. This gives us a better feel for the scales of measurement, and can sometimes reveal values that are unusual or might even have been entered incorrectly when the data were recorded.\n",
    "\n",
    "#### Numbers\n",
    "\n",
    "Summarizing multiple values in one number is also known as 'aggregating' the values. The `aggregate()` method of a `pandas.DataFrame` [returns](extras/glossary.ipynb#return) a new shorter data frame containing only aggregated values. The first [argument](extras/glossary.ipynb#argument) to `aggregate()` specifies what function or functions to use to aggregate the data. These functions can be [built-in](extras/glossary.ipynb#builtin) Python functions, or functions from a [module](extras/glossary.ipynb#module) that we have [imported](extras/glossary.ipynb#import). A lot of common aggregation functions can be found in the [`statistics` module](https://docs.python.org/3/library/statistics.html) in Python's [standard library](standard_library.ipynb):\n",
    "\n",
    "* `statistics.median()`. The value that is in the 'middle' of the data when the values are arranged in order.\n",
    "* `statistics.mean()`. The sum of all the values, divided by the number of values (i.e. the value that would result if the total amount were 'shared equally' among all the observations).\n",
    "* `statistics.stdev()`. A measure of how far values tend to be from the mean, on average. So this indicates how 'spread out' the values are.\n",
    "\n",
    "If we want to apply multiple aggregation functions, then it is a little clearer to first gather the functions in a [list](extras/glossary.ipynb) [variable](extras/glossary.ipynb#variable), and then pass this list variable into the `aggregate()` method. Like this:"
   ]
  },
  {
   "cell_type": "code",
   "execution_count": 26,
   "metadata": {},
   "outputs": [],
   "source": [
    "import statistics\n",
    "\n",
    "summary_stats = [min, statistics.median, statistics.mean, statistics.stdev, max]"
   ]
  },
  {
   "cell_type": "markdown",
   "metadata": {},
   "source": [
    "Note an important subtlety here: So far, we have almost always placed parentheses after function names, in order to [call](extras/glossary.ipynb#call) them immediately and get their [return value](extras/glossary.ipynb#return). However, this is not the right thing to do here. If we are merely referring to a function, for example to store it in a list or to pass it in as the input [argument](extras/glossary.ipynb#argument) to another function, then we do not want to call the function yet, so no parentheses.\n",
    "\n",
    "Now we can give our list of summary functions to the `aggregate()` method of our `pandas.DataFrame`:"
   ]
  },
  {
   "cell_type": "code",
   "execution_count": 27,
   "metadata": {},
   "outputs": [
    {
     "name": "stdout",
     "output_type": "stream",
     "text": [
      "            Bird   HeartRate      Depth   Duration\n",
      "min         EP19   22.800000    5.00000   1.050000\n",
      "median    EP3505   48.400000   40.87000   8.100000\n",
      "max     EP432001  134.000000  225.00000  18.150000\n",
      "mean         NaN   56.924000   56.79936   7.311231\n",
      "stdev        NaN   26.343033   47.75013   4.074564\n"
     ]
    }
   ],
   "source": [
    "print(penguins.aggregate(summary_stats))"
   ]
  },
  {
   "cell_type": "markdown",
   "metadata": {},
   "source": [
    "This is very convenient. Instead of doing all the math ourselves for each column (and risking getting it wrong), with just a couple of commands we get a nice table of mathematical summaries of our data. For example, we can see at a glance that the penguins dived (dove?) up to more than 200 meters, but that an 'average' dive was quite a lot shallower, at about 40 to 50 meters deep.\n",
    "\n",
    "There is one small blemish to fix in our summary. `pandas` has dutifully applied the summary functions to every column, but there is one column for which they do not make any sense. The 'Bird' column contains [strings](extras/glossary.ipynb#string) rather than numbers, so mathematical functions do not apply here. As a result, we see that some of the results for the 'Bird' column are marked '[NaN](extras/glossary.ipynb#nan)'. This is an abbreviation of 'Not a Number', sometimes used in data analysis to represent values that are missing or undefined.\n",
    "\n",
    "Even more strangely, we see that Python seems to think that there is a 'minimum' and 'maximum' bird ID. This is of course nonsensical, and is just an unfortunate side-effect of the fact that Python's `min()` and `max()` functions work by first sorting values, and that string values are sorted alphabetically. So these are simply the alphabetically first and last Bird IDs, which is not a piece of information we need.\n",
    "\n",
    "We can fix these small problems by specifying separate summary functions for each column. `aggregate()` also allows its first [argument](extras/glossary.ipynb#argument) to be a [dictionary](extras/glossary.ipynb#dictionary) (remember those?) in which the [keys](extras/glossary.ipynb#key) are the names of columns, and the value for each key is a list of summary functions for that column only.\n",
    "\n",
    "So we can use a dictionary to summarize only specific columns. For example:"
   ]
  },
  {
   "cell_type": "code",
   "execution_count": 28,
   "metadata": {},
   "outputs": [
    {
     "name": "stdout",
     "output_type": "stream",
     "text": [
      "            Depth   Duration\n",
      "min       5.00000   1.050000\n",
      "median   40.87000   8.100000\n",
      "mean     56.79936   7.311231\n",
      "stdev    47.75013   4.074564\n",
      "max     225.00000  18.150000\n"
     ]
    }
   ],
   "source": [
    "summary_dict = {'Depth': summary_stats,\n",
    "                'Duration': summary_stats}\n",
    "\n",
    "print(penguins.aggregate(summary_dict))"
   ]
  },
  {
   "cell_type": "markdown",
   "metadata": {},
   "source": [
    "Or we can customize the summary for each column. For example to get shorter summaries of some columns:"
   ]
  },
  {
   "cell_type": "code",
   "execution_count": 29,
   "metadata": {},
   "outputs": [
    {
     "name": "stdout",
     "output_type": "stream",
     "text": [
      "         HeartRate  Depth  Duration\n",
      "max     134.000000  225.0     18.15\n",
      "mean     56.924000    NaN       NaN\n",
      "median   48.400000    NaN       NaN\n",
      "min      22.800000    5.0      1.05\n",
      "stdev    26.343033    NaN       NaN\n"
     ]
    }
   ],
   "source": [
    "summary_dict = {'HeartRate': summary_stats,\n",
    "                'Depth': [min, max],\n",
    "                'Duration': [min, max]}\n",
    "\n",
    "print(penguins.aggregate(summary_dict))"
   ]
  },
  {
   "cell_type": "markdown",
   "metadata": {},
   "source": [
    "`aggregate()` also has an alternative abbreviated name (or 'alias'): `agg()`. You can use this instead if you're into the whole, like, brevity thing:"
   ]
  },
  {
   "cell_type": "code",
   "execution_count": 30,
   "metadata": {},
   "outputs": [
    {
     "name": "stdout",
     "output_type": "stream",
     "text": [
      "         HeartRate  Depth  Duration\n",
      "max     134.000000  225.0     18.15\n",
      "mean     56.924000    NaN       NaN\n",
      "median   48.400000    NaN       NaN\n",
      "min      22.800000    5.0      1.05\n",
      "stdev    26.343033    NaN       NaN\n"
     ]
    }
   ],
   "source": [
    "print(penguins.agg(summary_dict))"
   ]
  },
  {
   "cell_type": "markdown",
   "metadata": {},
   "source": [
    "The results are the same and it doesn't matter which you use. Just be consistent.\n",
    "\n",
    "#### Categories\n",
    "\n",
    "The 'Bird' column in our penguins data frame represents categories of observations, where those categories have no natural order and cannot usefully be thought of as quantities on a scale. As we saw above, this makes mathematical summaries unsuitable. But we can still summarize categorical columns of data, and indeed it is usually a good idea to do so.\n",
    "\n",
    "The main thing that we want to know about a categorical column is how many observations there are in each category. In our example, this is asking how many dives were recorded for each penguin. The `count()` [method](extras/glossary.ipynb#method), applied to a single column, counts the number of times each value occurs:"
   ]
  },
  {
   "cell_type": "code",
   "execution_count": 31,
   "metadata": {},
   "outputs": [
    {
     "name": "stdout",
     "output_type": "stream",
     "text": [
      "EP19        20\n",
      "EP432001    17\n",
      "EP3205      17\n",
      "EP3505      16\n",
      "EP3901      14\n",
      "EP3905      13\n",
      "EP22        12\n",
      "EP3105      10\n",
      "EP3605       6\n",
      "Name: Bird, dtype: int64\n"
     ]
    }
   ],
   "source": [
    "print(penguins['Bird'].value_counts())"
   ]
  },
  {
   "cell_type": "markdown",
   "metadata": {},
   "source": [
    "Here we see for example that we have only 6 dives from penguin 'EP3605', and at least 10 dives from the other penguins.\n",
    "\n",
    "If we would like instead to see how many observations we have in each category, as a proportion of the total number of observations, we can set the `normalize` [argument](extras/glossary.ipynb#argument) to `True`:"
   ]
  },
  {
   "cell_type": "code",
   "execution_count": 32,
   "metadata": {},
   "outputs": [
    {
     "name": "stdout",
     "output_type": "stream",
     "text": [
      "EP19        0.160\n",
      "EP432001    0.136\n",
      "EP3205      0.136\n",
      "EP3505      0.128\n",
      "EP3901      0.112\n",
      "EP3905      0.104\n",
      "EP22        0.096\n",
      "EP3105      0.080\n",
      "EP3605      0.048\n",
      "Name: Bird, dtype: float64\n"
     ]
    }
   ],
   "source": [
    "print(penguins['Bird'].value_counts(normalize=True))"
   ]
  },
  {
   "cell_type": "markdown",
   "metadata": {},
   "source": [
    "Proportions can sometimes be useful for checking whether our data are representative of the population in general with respect to some demographic characteristic. For example in market research, it might be important to have representative proportions of customers of different genders, religions, pet preferences, etc.\n",
    "\n",
    "#### Grouping\n",
    "\n",
    "Above we produced a summary of the depths and durations of dives. What if we wanted to have this information separately for each penguin? We might want to know whether the penguins all behaved more or less the same or whether they have very varied 'diving strategies'. For this we need a 'grouped summary'.\n",
    "\n",
    "`pandas` makes grouping our data pretty easy. The `groupby()` [method](extras/glossary.ipynb#method) groups the rows of a data frame according to the categories in one or more columns. The first [argument](extras/glossary.ipynb#argument) is a list of column names to group by. Any subsequent calculations are then performed separately for the groups of observations that are in the same category for those columns. The most common pattern is to apply the `groupby()` method and then immediately apply the `aggregate()` method to the result. Like this:"
   ]
  },
  {
   "cell_type": "code",
   "execution_count": 33,
   "metadata": {},
   "outputs": [
    {
     "name": "stdout",
     "output_type": "stream",
     "text": [
      "         HeartRate         Depth          Duration           \n",
      "               min    max    min     max       min        max\n",
      "Bird                                                         \n",
      "EP19          31.8  134.0   5.00   45.50  1.050000  11.866667\n",
      "EP22          24.1  106.3  11.00  147.00  2.000000  18.150000\n",
      "EP3105        27.5   81.3  20.41   75.97  1.933317  14.149933\n",
      "EP3205        29.6  104.5  19.24   66.94  1.100000  15.449917\n",
      "EP3505        22.8  121.7  10.89   63.82  1.100000  14.683250\n",
      "EP3605        23.5   73.3  22.75   67.38  2.183333  12.399933\n",
      "EP3901        42.1  127.8   8.60  225.00  1.533333  13.533333\n",
      "EP3905        31.3   84.4  12.30   66.45  1.050000  12.249933\n",
      "EP432001      34.0  103.8  25.00  170.00  1.916667  10.500000\n"
     ]
    }
   ],
   "source": [
    "print(penguins.groupby(['Bird']).aggregate([min, max]))"
   ]
  },
  {
   "cell_type": "markdown",
   "metadata": {},
   "source": [
    "For example, here this shows us that penguin 'EP3901' has an impressively wide range of dive depths, and generally a faster heart rate. This is perhaps a young and energetic penguin (though I don't know enough about penguin ethology to say).\n",
    "\n",
    "In other contexts, grouped summaries are useful for comparing things like types of customer, countries, companies, etc. In a basic data analysis, we will almost always want a grouped summary at some point.\n",
    "\n",
    "## Data visualization\n",
    "\n",
    "Most human beings are not particularly good at seeing patterns in tables of numbers. My eyes already start to glaze over at the sight of double digits or a decimal point. Data visualization is therefore very important, even more so than numerical summaries or a sophisticated statistical analysis. Usually it is only once we have seen a picture of our data that we have any clear idea of what patterns are present.\n",
    "\n",
    "There are a lot of Python [packages](extras/glossary.ipynb#package) that provide tools for data visualization. Rather too many in fact. Whereas many specialized tasks in Python are handled by one widely-preferred package that most developers agree is the best one (for example `numpy` for [arrays](extras/glossary.ipynb#array) and `pandas` for data analysis), there is no such broad consensus for data visualization. There are instead a few main contenders, each with its own advantages and disadvantages:\n",
    "\n",
    "* `matplotlib`\n",
    "  * Pro: Gives the most detailed control over the features of a figure.\n",
    "  * Con: There is a trade-off between control and ease of use. The fact that `matplotlib` expects to be told exactly what your figure should look like means that doing anything more complex than drawing a few lines is extremely tedious, and can result in some very messy and unclear Python code.\n",
    "* `pandas` itself has a few simple options for displaying the data from a data frame.\n",
    "  * Pro: You can create figures directly from your `pandas.DataFrame` without having to first extract the right bits of it, and you don't have to import an additional module.\n",
    "  * Con: Can only produce a few basic types of figure.\n",
    "* `seaborn`\n",
    "  * Pro: Fairly easy to use. In most cases, you just put your data into the right function and your figure is ready.\n",
    "  * Con: You have to look up a new function for every different type of figure you want to make. If `seaborn` doesn't have a function for your desired type of figure, adapting it is very difficult. (Also, IMSHO the default color scheme and general style are really ugly.)\n",
    "* `bokeh`\n",
    "  * Pro: Produces interactive figures that can open in a web browser. This looks cool and impresses people.\n",
    "  * Con: Not always so easy to use. Can result in the same kind of messy and unreadable code as `matplotlib`.\n",
    "\n",
    "### matplotlib\n",
    "\n",
    "We met `matplotlib` already in the [lesson on arrays](arrays.ipynb#matplotlib), so we won't go over the basics again. It is enough to note that we can input columns from a `pandas.DataFrame` as the *x* and *y* [arguments](extras/glossary.ipynb#argument) to `matplotlib`'s plotting functions. For example:"
   ]
  },
  {
   "cell_type": "code",
   "execution_count": 34,
   "metadata": {},
   "outputs": [
    {
     "data": {
      "image/png": "[encoded data removed]",
      "text/plain": [
       "<Figure size 432x288 with 1 Axes>"
      ]
     },
     "metadata": {
      "needs_background": "light"
     },
     "output_type": "display_data"
    }
   ],
   "source": [
    "from matplotlib import pyplot\n",
    "\n",
    "pyplot.scatter(penguins['Duration'], penguins['Depth'])\n",
    "pyplot.show()"
   ]
  },
  {
   "cell_type": "markdown",
   "metadata": {},
   "source": [
    "If we want axis labels, `matplotlib` needs to be told what they are:"
   ]
  },
  {
   "cell_type": "code",
   "execution_count": 35,
   "metadata": {},
   "outputs": [
    {
     "data": {
      "image/png": "[encoded data removed]",
      "text/plain": [
       "<Figure size 432x288 with 1 Axes>"
      ]
     },
     "metadata": {
      "needs_background": "light"
     },
     "output_type": "display_data"
    }
   ],
   "source": [
    "pyplot.scatter(penguins['Duration'], penguins['Depth'])\n",
    "pyplot.xlabel('Duration (mins)')\n",
    "pyplot.ylabel('Depth (m)')\n",
    "pyplot.show()"
   ]
  },
  {
   "cell_type": "markdown",
   "metadata": {},
   "source": [
    "If we want something as simple as just coloring a subset of the observations differently, then we have to first fetch the subset ourselves:"
   ]
  },
  {
   "cell_type": "code",
   "execution_count": 36,
   "metadata": {},
   "outputs": [
    {
     "data": {
      "image/png": "[encoded data removed]",
      "text/plain": [
       "<Figure size 432x288 with 1 Axes>"
      ]
     },
     "metadata": {
      "needs_background": "light"
     },
     "output_type": "display_data"
    }
   ],
   "source": [
    "favorite_penguin = 'EP3901'\n",
    "\n",
    "group1 = penguins[penguins['Bird'] != favorite_penguin]\n",
    "group2 = penguins[penguins['Bird'] == favorite_penguin]\n",
    "\n",
    "pyplot.scatter(group1['Duration'], group1['Depth'])\n",
    "pyplot.scatter(group2['Duration'], group2['Depth'])\n",
    "pyplot.show()"
   ]
  },
  {
   "cell_type": "markdown",
   "metadata": {},
   "source": [
    "And note that this doesn't yet get us a legend showing what the two separate colors refer to. Like axis labels, legends have to be added explicitly.\n",
    "\n",
    "Don't be a masochist. If you want a more complex figure with labels, legends, colors, and so on then use one of the other data visualization packages.\n",
    "\n",
    "### pandas plots\n",
    "\n",
    "A `pandas.DataFrame` has an [attribute](extras/glossary.ipynb#attribute) called `plot`. This attribute in turn stores several [methods](extras/glossary.ipynb#method) that can be used to plot the data from the data frame.\n",
    "\n",
    "Let's take a look at these methods, using `dir()` (for brevity, we can omit printing the ubiquitous 'special methods' whose names begin with underscores):"
   ]
  },
  {
   "cell_type": "code",
   "execution_count": 37,
   "metadata": {},
   "outputs": [
    {
     "name": "stdout",
     "output_type": "stream",
     "text": [
      "area\n",
      "bar\n",
      "barh\n",
      "box\n",
      "density\n",
      "hexbin\n",
      "hist\n",
      "kde\n",
      "line\n",
      "pie\n",
      "scatter\n"
     ]
    }
   ],
   "source": [
    "for meth in dir(penguins.plot):\n",
    "    if not meth.startswith('_'):\n",
    "        print(meth)"
   ]
  },
  {
   "cell_type": "markdown",
   "metadata": {},
   "source": [
    "There is a `scatter()` method, which is similar to the `scatter()` function from `matplotlib.pyplot` that we have already met (indeed, behind the scenes, this method uses `pyplot.scatter()`). The [arguments](extras/glossary.ipynb#argument) to the `scatter()` method specify which columns of data should be matched to the *x* and *y* axes of the figure."
   ]
  },
  {
   "cell_type": "code",
   "execution_count": 38,
   "metadata": {},
   "outputs": [
    {
     "data": {
      "image/png": "[encoded data removed]",
      "text/plain": [
       "<Figure size 432x288 with 1 Axes>"
      ]
     },
     "metadata": {
      "needs_background": "light"
     },
     "output_type": "display_data"
    }
   ],
   "source": [
    "penguins.plot.scatter(x='Duration', y='Depth')\n",
    "pyplot.show()"
   ]
  },
  {
   "cell_type": "markdown",
   "metadata": {},
   "source": [
    "(Note that because `pandas` is still using `matplotlib` as the final means of creating the figure, we still use `matplotlib`'s `pyplot.show()` function to ensure the figure is displayed.)\n",
    "\n",
    "`pandas`' plotting functions are not a huge improvement on `matplotlib`. The figure we just made is essentially the same one we got from `matplotlib` a moment ago, with just two small bonuses. First, as you may have noticed, we were able to specify the *x* and *y* arguments simply as column names (i.e. `'Duration` rather than `penguins['Duration']`), which makes for slightly briefer, clearer code. Second, `pandas` adds the column names as axis labels automatically, sparing us a little extra work.\n",
    "\n",
    "Even this second bonus isn't always that useful. If the scales of measurement on our axes have specific units that are not already clear from the column names, then we should add these to make our figure clear. For this, we need to revert to the labeling functions from `pyplot`:"
   ]
  },
  {
   "cell_type": "code",
   "execution_count": 39,
   "metadata": {},
   "outputs": [
    {
     "data": {
      "image/png": "[encoded data removed]",
      "text/plain": [
       "<Figure size 432x288 with 1 Axes>"
      ]
     },
     "metadata": {
      "needs_background": "light"
     },
     "output_type": "display_data"
    }
   ],
   "source": [
    "penguins.plot.scatter(x='Duration', y='Depth')\n",
    "pyplot.xlabel('Duration (mins)')\n",
    "pyplot.ylabel('Depth (m)')\n",
    "pyplot.show()"
   ]
  },
  {
   "cell_type": "markdown",
   "metadata": {},
   "source": [
    "If you want to explore a bit, you can head over to Spyder, load the penguins data yourself and try out a few of the other `pandas` plot functions from the list we printed above. But be prepared for some frustration; they are mostly of fairly limited use.\n",
    "\n",
    "### seaborn\n",
    "\n",
    "Now we will learn about our first data visualization package that is both relatively easy to use and genuinely useful. `seaborn` is included in the default Anaconda installation, so you do not need to install it.\n",
    "\n",
    "`seaborn` provides a wider selection of plotting functions than `matplotlib` and `pandas`. The online documentation has a full [gallery of examples](https://seaborn.pydata.org/examples/index.html), which you can browse to get an idea of what is possible. Here we will stick to the same simple figure from above, so that we can make a clear comparison with `matplotlib` and `pandas`.\n",
    "\n",
    "The figure we have been creating so far displays the observations (in our case, dives) as points in a 2D space, where two features of those observations (duration and depth) form the two axes of the space. This kind of figure is most commonly known as a 'scatterplot', and this is also the name of the `seaborn` function for creating it. The `x` and `y` [arguments](extras/glossary.ipynb#argument) to `scatterplot()` specify which columns of a data frame to use for the two respective axes, and the additional `data` argument tells `seaborn` which data frame these columns should be taken from.\n",
    "\n",
    "(Note that the `x` and `y` arguments should be in quote marks, since these are just the [string](extras/glossary.ipynb#string) names of columns, not [variables](extras/glossary.ipynb#variable), but the `data` argument should be unquoted, because our data frame is a variable.)"
   ]
  },
  {
   "cell_type": "code",
   "execution_count": 40,
   "metadata": {},
   "outputs": [
    {
     "data": {
      "image/png": "[encoded data removed]",
      "text/plain": [
       "<Figure size 432x288 with 1 Axes>"
      ]
     },
     "metadata": {
      "needs_background": "light"
     },
     "output_type": "display_data"
    }
   ],
   "source": [
    "import seaborn\n",
    "\n",
    "seaborn.scatterplot(x='Duration', y='Depth', data=penguins)\n",
    "pyplot.show()"
   ]
  },
  {
   "cell_type": "markdown",
   "metadata": {},
   "source": [
    "So far, so good. We get essentially the same plot that `pandas` gave us. And we can make the same sort of more detailed tweaks to axis labels and so on by reverting to `pyplot`:"
   ]
  },
  {
   "cell_type": "code",
   "execution_count": 41,
   "metadata": {},
   "outputs": [
    {
     "data": {
      "image/png": "[encoded data removed]",
      "text/plain": [
       "<Figure size 432x288 with 1 Axes>"
      ]
     },
     "metadata": {
      "needs_background": "light"
     },
     "output_type": "display_data"
    }
   ],
   "source": [
    "seaborn.scatterplot(x='Duration', y='Depth', data=penguins)\n",
    "pyplot.xlabel('Duration (mins)')\n",
    "pyplot.ylabel('Depth (m)')\n",
    "pyplot.show()"
   ]
  },
  {
   "cell_type": "markdown",
   "metadata": {},
   "source": [
    "But the really useful novelty of `seaborn` is revealed with a few additional keyword arguments. As well as just `x` and `y`, three more arguments `hue`, `style`, and `size` allow us to vary the color ('hue' essentially means 'color'), the point symbol, and the size of the points according to additional columns from the data frame.\n",
    "\n",
    "For example, the `hue` argument provides a really simple solution to the problem of coloring subsets of the data that was so tedious with `matplotlib`:"
   ]
  },
  {
   "cell_type": "code",
   "execution_count": 42,
   "metadata": {},
   "outputs": [
    {
     "data": {
      "image/png": "[encoded data removed]",
      "text/plain": [
       "<Figure size 432x288 with 1 Axes>"
      ]
     },
     "metadata": {
      "needs_background": "light"
     },
     "output_type": "display_data"
    }
   ],
   "source": [
    "seaborn.scatterplot(x='Duration', y='Depth', hue='Bird', data=penguins)\n",
    "pyplot.show()"
   ]
  },
  {
   "cell_type": "markdown",
   "metadata": {},
   "source": [
    "And we get an automatic legend showing what the colors refer to. Praise the Lord!\n",
    "\n",
    "These additional arguments are the best feature of `seaborn`. They allow us to show more than just two aspects of our data on one figure, with almost no extra effort. As another example, we can use the `size` argument to show how a third numerical quantity is related to the first two:"
   ]
  },
  {
   "cell_type": "code",
   "execution_count": 43,
   "metadata": {},
   "outputs": [
    {
     "data": {
      "image/png": "[encoded data removed]",
      "text/plain": [
       "<Figure size 432x288 with 1 Axes>"
      ]
     },
     "metadata": {
      "needs_background": "light"
     },
     "output_type": "display_data"
    }
   ],
   "source": [
    "seaborn.scatterplot(x='Duration', y='Depth', size='HeartRate', data=penguins)\n",
    "pyplot.show()"
   ]
  },
  {
   "cell_type": "markdown",
   "metadata": {},
   "source": [
    "Here for example the different sizes of the points show us that the penguins' heart rates tend to be slower for the longer dives.\n",
    "\n",
    "The functions for other figure types all work in more or less the same way: Assign column names to dimensions of the figure, such as `x`, `y`, `hue`, etc., and specify which data frame the columns should come from.\n",
    "\n",
    "Go to the [seaborn examples gallery](https://seaborn.pydata.org/examples/index.html) and explore.\n",
    "\n",
    "### Saving figures\n",
    "\n",
    "We would of course like to be able to save our figures to an image file, so that we can show them to supervisors, put them on our website, print them on novelty underwear, etc. Used in place of `pyplot.show()`, `pyplot.savefig()` saves the current figure into an image file. The input [argument](extras/glossary.ipynb#argument) is the name of the file to save to.\n",
    "\n",
    "#### png\n",
    "\n",
    "The *png* image format ('Portable Network Graphics'), which we met briefly in the [lesson on images](images.ipynb#transparency), is a good one to use for websites and documents mainly intended to be read online. `savefig()` infers our desires concerning the file format from the name of the file, so all we need to do in order to get a *png* image is to use the file extension *.png*:"
   ]
  },
  {
   "cell_type": "code",
   "execution_count": 44,
   "metadata": {},
   "outputs": [
    {
     "data": {
      "image/png": "[encoded data removed]",
      "text/plain": [
       "<Figure size 432x288 with 1 Axes>"
      ]
     },
     "metadata": {
      "needs_background": "light"
     },
     "output_type": "display_data"
    }
   ],
   "source": [
    "pyplot.scatter(penguins['Duration'], penguins['Depth'])\n",
    "pyplot.savefig('penguins.png')"
   ]
  },
  {
   "cell_type": "markdown",
   "metadata": {},
   "source": [
    "(Depending somewhat on where and when you run the two commands above, you may still see the figure displayed in the console as well as it being saved to file.)\n",
    "\n",
    "The resulting image file looks just like the in-console display:\n",
    "\n",
    "![](images/penguins.png)\n",
    "\n",
    "As we saw above, `pandas`' and `seaborn`'s plotting functions use `matplotlib` in the background. So `pyplot.savefig()` also works for them. Try it out.\n",
    "\n",
    "#### svg\n",
    "\n",
    "Run one of the examples above in your console and save a *png* image file. Then go to your Python working folder in your file explorer and open up the resulting image file in your image viewer. Zoom in to the image a bit. If you zoom in enough, eventually you will see the image become blurry and 'pixelated' (like in this screenshot of part of the image zoomed to 1000%):\n",
    "\n",
    "![](images/penguins_zoomed.png)\n",
    "\n",
    "This doesn't look so pretty. Though very few things do when examined this closely.\n",
    "\n",
    "You may have encountered this problem already when pasting small images into documents. It occurs because as we zoom in, the regions of the image that were originally individual tiny pixels on our screen become large enough for us to see them as distinct square regions, like in Mario Bros. This doesn't matter if we intend the image to be viewed at its default size on our website, but there are some circumstances in which it would be useful to have a version of the image that remains crisp even when zoomed in a lot, for example if we want to print our image out on a large poster to display at a conference.\n",
    "\n",
    "An alternative image file format, *svg* ('Scalable Vector Graphics'), will stay looking 'crisp' at any zoom. Try saving an *svg* image of the penguins scatterplot (i.e. use `'penguins.svg'` as the argument to `savefig()`), then go to your file explorer, open the file, and zoom in excessively as before. (Depending on your computer, you may find that the default program for opening *svg* files is your web browser. Either try right-clicking on the file and opening it in an image viewer program instead, or use the web browser's zoom function.) You should see that the dots remain crisply circular. \n",
    "\n",
    "How does this magic work? Recall what we learned in the [lesson on images](images.ipynb) about how images are encoded for computers. In most image file formats the image is encoded as an [array](extras/glossary.ipynb#array) in which the rows and columns represent the pixels of the image (most formats also add to or modify this method of encoding in some way, but the starting point remains an array). This method of encoding only contains information about each individual pixel, so the only way to display an image at a larger scale is to make each pixel take up more space on the screen. A pixel array (often called a 'bitmap') is not the only way to encode an image for a computer. A completely different method involves instead encoding the image as a set of *instructions* about what to draw where. For example: 'Dear computer, please draw circles at the following positions..., then draw a line *here* and *here*, then some text *here*, ...' and so on. This is essentially how the *svg* image file format works. It makes no reference to specific pixels, and instead just encodes what shapes should be drawn where. The result is that when we zoom in, the computer can just re-draw all the requested shapes, but larger ('Dear computer, please draw *MASSIVE* circles at the following positions, ...' etc.)\n",
    "\n",
    "I have just told you that *svg* files take the form of instructions about what to draw. As we learned right back at the beginning of the class, instructions for a computer need to be written in a programming language of some sort. So what programming language is an *svg* file written in? Not Python, unfortunately. Although that would be convenient for us just now, it would be a bad choice for most purposes. Python is much too general a programming language to be efficient for just drawing images. *svg* files are written in their own programming language, which is based on another called XML ('eXtensible Markup Language'). We won't learn about it here, as that would take us way beyond the scope of the class, but if you are curious you can open the file [penguins.svg](examples/data/penguins.svg) in a text editor instead of in an image viewer. You will see that like a Python file it just consists of text commands. Although most of the commands are not particularly easy to understand, you should be able to find fairly easily where the *x* and *y* positions of the circles in the image are defined. And near the top of the file you may recognize a [comment](extras/glossary.ipynb#comment) noting that the file was created by `matplotlib` (comments in XML are enclosed in `<!--  -->`).\n",
    "\n",
    "### bokeh\n",
    "\n",
    "Now for something completely different. All of the data visualization packages that we learned about above ultimately use `matplotlib` in the background, and so are quite similar to each other in function and in appearance. The `bokeh` package is different. The figures that it creates are somewhat like miniature 'apps' for a web browser, which can allow users to explore the data themselves. Getting this right requires taking on a little more complexity, but in return the results are more exciting.\n",
    "\n",
    "`bokeh` is a [package](extras/glossary.ipynb#package) that is organized into multiple [modules](extras/glossary.ipynb#module). For basic data visualization, we need two of these:\n",
    "\n",
    "* `bokeh.plotting` does all the drawing of shapes and axes, a bit like `matplotlib`.\n",
    "* `bokeh.models` organizes the data that goes on a figure.\n",
    "\n",
    "Let's begin by importing both of these modules from `bokeh`. (`bokeh` is included in the default Anaconda installation, so you don't need to install it)."
   ]
  },
  {
   "cell_type": "code",
   "execution_count": 45,
   "metadata": {},
   "outputs": [],
   "source": [
    "from bokeh import models\n",
    "from bokeh import plotting"
   ]
  },
  {
   "cell_type": "markdown",
   "metadata": {},
   "source": [
    "The starting point for any figure is the `figure()` function from the `plotting` module. In most simple cases, we do not need to supply any [arguments](extras/glossary.ipynb#argument) to this function. We just [assign](extras/glossary.ipynb#assignment) the result into a [variable](extras/glossary.ipynb#variable). This variable is of a new [type](extras/glossary.ipynb#type), a `bokeh` `Figure` object:"
   ]
  },
  {
   "cell_type": "code",
   "execution_count": 46,
   "metadata": {},
   "outputs": [
    {
     "data": {
      "text/plain": [
       "bokeh.plotting.figure.Figure"
      ]
     },
     "execution_count": 46,
     "metadata": {},
     "output_type": "execute_result"
    }
   ],
   "source": [
    "fig = plotting.figure()\n",
    "\n",
    "type(fig)"
   ]
  },
  {
   "cell_type": "markdown",
   "metadata": {},
   "source": [
    "A `Figure` has [methods](extras/glossary.ipynb#method) for drawing different kinds of shapes. To create the same kind of scatterplot that we drew with the other plotting packages, we need the `circle()` method. Just like with `seaborn`, there are *x* and *y* [arguments](extras/glossary.ipynb#argument) to specify which columns of our data frame correspond to which axes of the figure. Also like `seaborn`, `bokeh` needs to know where these columns are to be found (but the name of this argument is `source`, rather than `data`). If the data are coming from a `pandas.DataFrame`, then `bokeh` also requires the data frame to first be converted into a slightly different format that it knows how to work with, using the `ColumnDataSource()` function from the `models` module.\n",
    "\n",
    "So the whole command looks like this:"
   ]
  },
  {
   "cell_type": "code",
   "execution_count": 47,
   "metadata": {},
   "outputs": [
    {
     "data": {
      "text/html": [
       "<div style=\"display: table;\"><div style=\"display: table-row;\"><div style=\"display: table-cell;\"><b title=\"bokeh.models.renderers.GlyphRenderer\">GlyphRenderer</b>(</div><div style=\"display: table-cell;\">id&nbsp;=&nbsp;'1037', <span id=\"1040\" style=\"cursor: pointer;\">&hellip;)</span></div></div><div class=\"1039\" style=\"display: none;\"><div style=\"display: table-cell;\"></div><div style=\"display: table-cell;\">data_source&nbsp;=&nbsp;ColumnDataSource(id='1033', ...),</div></div><div class=\"1039\" style=\"display: none;\"><div style=\"display: table-cell;\"></div><div style=\"display: table-cell;\">glyph&nbsp;=&nbsp;Circle(id='1035', ...),</div></div><div class=\"1039\" style=\"display: none;\"><div style=\"display: table-cell;\"></div><div style=\"display: table-cell;\">hover_glyph&nbsp;=&nbsp;None,</div></div><div class=\"1039\" style=\"display: none;\"><div style=\"display: table-cell;\"></div><div style=\"display: table-cell;\">js_event_callbacks&nbsp;=&nbsp;{},</div></div><div class=\"1039\" style=\"display: none;\"><div style=\"display: table-cell;\"></div><div style=\"display: table-cell;\">js_property_callbacks&nbsp;=&nbsp;{},</div></div><div class=\"1039\" style=\"display: none;\"><div style=\"display: table-cell;\"></div><div style=\"display: table-cell;\">level&nbsp;=&nbsp;'glyph',</div></div><div class=\"1039\" style=\"display: none;\"><div style=\"display: table-cell;\"></div><div style=\"display: table-cell;\">muted&nbsp;=&nbsp;False,</div></div><div class=\"1039\" style=\"display: none;\"><div style=\"display: table-cell;\"></div><div style=\"display: table-cell;\">muted_glyph&nbsp;=&nbsp;None,</div></div><div class=\"1039\" style=\"display: none;\"><div style=\"display: table-cell;\"></div><div style=\"display: table-cell;\">name&nbsp;=&nbsp;None,</div></div><div class=\"1039\" style=\"display: none;\"><div style=\"display: table-cell;\"></div><div style=\"display: table-cell;\">nonselection_glyph&nbsp;=&nbsp;Circle(id='1036', ...),</div></div><div class=\"1039\" style=\"display: none;\"><div style=\"display: table-cell;\"></div><div style=\"display: table-cell;\">selection_glyph&nbsp;=&nbsp;None,</div></div><div class=\"1039\" style=\"display: none;\"><div style=\"display: table-cell;\"></div><div style=\"display: table-cell;\">subscribed_events&nbsp;=&nbsp;[],</div></div><div class=\"1039\" style=\"display: none;\"><div style=\"display: table-cell;\"></div><div style=\"display: table-cell;\">tags&nbsp;=&nbsp;[],</div></div><div class=\"1039\" style=\"display: none;\"><div style=\"display: table-cell;\"></div><div style=\"display: table-cell;\">view&nbsp;=&nbsp;CDSView(id='1038', ...),</div></div><div class=\"1039\" style=\"display: none;\"><div style=\"display: table-cell;\"></div><div style=\"display: table-cell;\">visible&nbsp;=&nbsp;True,</div></div><div class=\"1039\" style=\"display: none;\"><div style=\"display: table-cell;\"></div><div style=\"display: table-cell;\">x_range_name&nbsp;=&nbsp;'default',</div></div><div class=\"1039\" style=\"display: none;\"><div style=\"display: table-cell;\"></div><div style=\"display: table-cell;\">y_range_name&nbsp;=&nbsp;'default')</div></div></div>\n",
       "<script>\n",
       "(function() {\n",
       "  var expanded = false;\n",
       "  var ellipsis = document.getElementById(\"1040\");\n",
       "  ellipsis.addEventListener(\"click\", function() {\n",
       "    var rows = document.getElementsByClassName(\"1039\");\n",
       "    for (var i = 0; i < rows.length; i++) {\n",
       "      var el = rows[i];\n",
       "      el.style.display = expanded ? \"none\" : \"table-row\";\n",
       "    }\n",
       "    ellipsis.innerHTML = expanded ? \"&hellip;)\" : \"&lsaquo;&lsaquo;&lsaquo;\";\n",
       "    expanded = !expanded;\n",
       "  });\n",
       "})();\n",
       "</script>\n"
      ],
      "text/plain": [
       "GlyphRenderer(id='1037', ...)"
      ]
     },
     "execution_count": 47,
     "metadata": {},
     "output_type": "execute_result"
    }
   ],
   "source": [
    "fig.circle(x='Duration', y='Depth', source=models.ColumnDataSource(penguins))"
   ]
  },
  {
   "cell_type": "markdown",
   "metadata": {},
   "source": [
    "Making tweaks such as custom axis labels is slightly different from `matplotlib` but not too difficult. Most changes to the appearance of the figure are made via [attributes](extras/glossary.ipynb#attribute) of the `Figure` variable. For example, to change the label of the *x* axis, we can [assign](extras/glossary.ipynb#assignment) a new [string](extras/glossary.ipynb#string) into the `xaxis.axis_label` attribute. And you can probably work out the name of the corresponding attribute for the *y* axis."
   ]
  },
  {
   "cell_type": "code",
   "execution_count": 48,
   "metadata": {},
   "outputs": [],
   "source": [
    "fig.xaxis.axis_label = 'Duration (mins)'\n",
    "fig.yaxis.axis_label = 'Depth (m)'"
   ]
  },
  {
   "cell_type": "markdown",
   "metadata": {},
   "source": [
    "Because `bokeh` is not based on `matplotlib`, we do not need `pyplot.show()` to see the finished figure. Instead, we need the `show()` function from `bokeh`'s own `plotting` module. The [argument](extras/glossary.ipynb#argument) is the variable that stores our `Figure` object:"
   ]
  },
  {
   "cell_type": "code",
   "execution_count": 49,
   "metadata": {},
   "outputs": [],
   "source": [
    "plotting.show(fig)"
   ]
  },
  {
   "cell_type": "markdown",
   "metadata": {},
   "source": [
    "However, you will need to run the `plotting.show()` command yourself in order to see the result. `bokeh` does not by default integrate its figures into an online Python notebook like the one I used to write this page. Instead, when you run `plotting.show()` in your own Spyder console you should see the figure open in your web browser. It will look something like this:\n",
    "\n",
    "![](images/Bokeh_Plot.png)\n",
    "\n",
    "#### Interactivity\n",
    "\n",
    "Note that what you are looking at above is a static screenshot. This is not the actual interactive `bokeh` figure, and the buttons in the attractive-looking toolbar at the right are not clickable. But if you run the example commands yourself and see the figure open in your browser, then it will be interactive.\n",
    "\n",
    "Try out the toolbar. Some of the buttons activate tools for zooming and selecting portions of the figure. Their symbols are mostly intuitively recognizable if you are familiar with computer apps, and you can hover the mouse over them to see their full names. Once you have zoomed or moved the figure and you want to set it back the way it was at the beginning, you can click the reset button:\n",
    "\n",
    "![](images/Reset.png)\n",
    "\n",
    "These are the default data exploration tools provided on a `bokeh` figure. There is a lot more that can be done, such as adding buttons for showing and hiding subsets of the data. However, the most exciting interactive features require running a 'server' on which to host our figures. This quickly gets quite complex, and goes somewhat beyond our Python skills at this stage. I leave it as an exercise for the interested reader to head over to the [bokeh gallery](https://docs.bokeh.org/en/latest/docs/gallery.html) and explore this possibility. Here we will look just at one simple bit of extra interactivity that will still work with the basic `plotting.show()`: adding a 'hovering' window with information about each observation.\n",
    "\n",
    "The `models` module provides functions that create additional buttons for that nice-looking toolbar. A lot of these are not really that useful, and are mainly there for people who want to wow their audience with loads of cool chart junk, but a few are genuinely informative. `HoverTool()` adds a small 'hovering' window that opens when you move the mouse cursor onto one of the data points. The `tooltips` [argument](extras/glossary.ipynb#argument) allows us to configure what information is displayed in this window. This information should take the form of a [list](extras/glossary.ipynb#list) of [tuples](extras/glossary.ipynb#tuple). Each tuple is of the form *(label, data)*, where the 'label' is the displayed name of a piece of information, and the 'data' instructs `bokeh` what piece of information to display next to that label. Both of these are given as [strings](extras/glossary.ipynb#string). Within the 'data' string, the `'@'` character lets `bokeh` know that a piece of information refers to one of the columns in our data frame. Finally, we can add a new button to our figure with the figure's `add_tools()` [method](extras/glossary.ipynb#method). That all sounds rather abstract, so let's see an example:"
   ]
  },
  {
   "cell_type": "code",
   "execution_count": 50,
   "metadata": {},
   "outputs": [],
   "source": [
    "hover_info = [('Penguin ID', '@Bird'),\n",
    "              ('Depth', '@Depth'),\n",
    "              ('Duration', '@Duration')]\n",
    "\n",
    "fig.add_tools(models.HoverTool(tooltips=hover_info))"
   ]
  },
  {
   "cell_type": "markdown",
   "metadata": {},
   "source": [
    "You will need to display the figure anew with `plotting.show()` to see this new version."
   ]
  },
  {
   "cell_type": "code",
   "execution_count": 51,
   "metadata": {},
   "outputs": [],
   "source": [
    "plotting.show(fig)"
   ]
  },
  {
   "cell_type": "markdown",
   "metadata": {},
   "source": [
    "You may need to turn on the new hover tool by clicking its icon:\n",
    "\n",
    "![](images/Hover.png)\n",
    "\n",
    "Then if you move the mouse cursor over one of the points on the figure you should see some information about the dive depth and duration, and the ID of the penguin that made the dive.\n",
    "\n",
    "#### Saving bokeh figures\n",
    "\n",
    "If you tire of interactivity and just want to save your `bokeh` figure as a static image, there is a save button (the floppy disk icon) in the toolbar. But what if we want to save the interactive version? The file that opens in your browser when you run `plotting.show()` is a temporary one, and will be gone when you close the browser window. To save a `bokeh` figure as a webpage that will continue to be interactive each time it is opened, we need two functions from the `plotting` module:\n",
    "\n",
    "* `output_file()` sets up an output file. The file format will be HTML, so we should give the filename the *html* file extension. The optional `title` argument is what will be displayed in the title bar of the browser window.\n",
    "* `save()` saves a specific figure to the file."
   ]
  },
  {
   "cell_type": "code",
   "execution_count": 52,
   "metadata": {},
   "outputs": [
    {
     "data": {
      "text/plain": [
       "'/home/lt/GitHub/introduction-to-programming/content/examples/penguins.html'"
      ]
     },
     "execution_count": 52,
     "metadata": {},
     "output_type": "execute_result"
    }
   ],
   "source": [
    "plotting.output_file('penguins.html', title='Penguins!')\n",
    "plotting.save(fig)"
   ]
  },
  {
   "cell_type": "markdown",
   "metadata": {},
   "source": [
    "To see what the resulting file looks like, you can either run the above commands yourself in your Spyder console and then go find the file in your file explorer, or you can take a look at one I made earlier, [penguins.html](examples/data/penguins.html).\n",
    "\n",
    "## Statistical models\n",
    "\n",
    "The final component of a basic data analysis is to relate the data to one or more idealized mathematical models of the underlying process that generated them. This step isn't always necessary; particularly if we are just exploring the data, a good visualization and some summary statistics may be sufficient to make the important features clear. But having a formal mathematical model of a phenomenon can bring a few extra benefits:\n",
    "\n",
    "* *Prediction*. We may wish to be able to predict new observations, for forecasting, targeted advertising, etc. A mathematical formula can do this, and to the extent that the formula fits our current observations well it may also be more or less correct for future observations.\n",
    "* *Theory validation*. We may have more than one competing theory about the phenomenon in question. If we can formalize these theories as mathematical formulas, then we may make inferences about the approximate truth of the theories based on how well their corresponding formulas describe the data.\n",
    "* *Efficient communication*. A mathematical formula provides a compact description of our data that may be a good substitute for describing the data exhaustively if the formula is approximately correct.\n",
    "* *Supervisor satisfaction*. Many academic supervisors insist on seeing a statistical analysis of some sort. Though we should beware of letting this tendency get out of control, it usually does no harm to keep them happy.\n",
    "\n",
    "So what is a statistical model? In brief, it is a formal description of a process that generates some observable phenomenon. We can make this more concrete by way of an example. Consider our example data set. We might be interested in predicting how diving penguins alter their heart rate. So the heart rate is the 'outcome' of interest. We might even have some tentative theories about why they do this. For example, our current theory might be that penguins reduce their heart rate according to the duration of a dive, so as to avoid using up all the oxygen in their blood too soon. So we come up with the following formula as an initial simple model of diving penguin heart rate. It states that the heart rate ($h$) starts at a normal baseline of 100 bpm, and reduces by 5 bpm for each minute of dive duration ($dur$):\n",
    "\n",
    "$$\n",
    "h = 100 - 5dur\n",
    "$$\n",
    "\n",
    "So for example on a dive that lasts 10 minutes, we expect a penguin's heart rate to be $100 - 5 \\times 10 = 50$ bpm.\n",
    "\n",
    "Let's look at several important refinements to this notion of a mathematical model.\n",
    "\n",
    "### Predictors\n",
    "\n",
    "In the example model above, we called the heart rate $h$, the 'outcome' measure. The outcome is the measurable phenomenon that we are interested in explaining or predicting. The corresponding name for the other quantity in our model, the dive duration $dur$, is 'predictor'. Predictors are other measurements that we hope to be able to plug into our formula in order to predict the value of the outcome measurement.\n",
    "\n",
    "A model formula may make use of more than one predictor. In our example, we might have a more tentative additional theory that penguins also use changes in heart rate partly to regulate blood pressure, so that on deeper dives their blood pressure matches the greater pressure of the water surrounding them (I have no idea whether this makes physiological sense; humor me, it's an example). So we come up with a refined model that also states that heart rate *increases* a little with each additional meter of dive depth ($dep$):\n",
    "\n",
    "$$\n",
    "h = 100 - 5dur + 0.5dep\n",
    "$$\n",
    "\n",
    "So for example on a dive that lasts 10 minutes and goes 20 meters deep, we expect a penguin's heart rate to be $100 - 5 \\times 10 + 0.5 \\times 20 = 60$ bpm.\n",
    "\n",
    "### Errors\n",
    "\n",
    "Are the two example models above any good? The answer to this will depend on what exactly we want to do with the models. How accurate do we need their predictions to be? In the absence of any specific criterion for what constitutes a 'good enough' model we can at least still ask *how accurate* a model's predictions are. There are a few ways of measuring prediction accuracy, but one of the simplest is to compare the results of a model formula to the observed outcomes in our data, and ask how close the formula gets to the true values, on average. In our case, this means plugging the observed values of dive duration and depth into the formulas to get the predicted heart rate for each dive, then comparing these numbers to the actual observed heart rates.\n",
    "\n",
    "Let's do this for the first model, with dive duration only. The first step is to put the 'Duration' column of our data frame into the formula:"
   ]
  },
  {
   "cell_type": "code",
   "execution_count": 53,
   "metadata": {},
   "outputs": [],
   "source": [
    "predicted = 100 - 5 * penguins['Duration']"
   ]
  },
  {
   "cell_type": "markdown",
   "metadata": {},
   "source": [
    "Then we calculate the difference between these predicted values and the observed heart rate values from the 'HeartRate' column. Such differences between predictions and true values are often termed 'errors':"
   ]
  },
  {
   "cell_type": "code",
   "execution_count": 54,
   "metadata": {},
   "outputs": [],
   "source": [
    "errors = predicted - penguins['HeartRate']"
   ]
  },
  {
   "cell_type": "markdown",
   "metadata": {},
   "source": [
    "We can then ask a few things about the errors. For example how large are the largest errors?"
   ]
  },
  {
   "cell_type": "code",
   "execution_count": 55,
   "metadata": {},
   "outputs": [
    {
     "data": {
      "text/plain": [
       "-39.416666500000005"
      ]
     },
     "execution_count": 55,
     "metadata": {},
     "output_type": "execute_result"
    }
   ],
   "source": [
    "min(errors)"
   ]
  },
  {
   "cell_type": "code",
   "execution_count": 56,
   "metadata": {},
   "outputs": [
    {
     "data": {
      "text/plain": [
       "35.0000835"
      ]
     },
     "execution_count": 56,
     "metadata": {},
     "output_type": "execute_result"
    }
   ],
   "source": [
    "max(errors)"
   ]
  },
  {
   "cell_type": "markdown",
   "metadata": {},
   "source": [
    "This tells us that at its worst our model underestimates the heart rate of our penguins by nearly 40 bpm, and overestimates by about 35 bpm. This seems like quite a lot, but maybe these two mistakes are anomalies. We can also ask how far the model's predictions are from the true heart rates, on average.\n",
    "\n",
    "(We need to apply the averaging to the absolute values of the errors, since some will be underestimates and some overestimates, and these would cancel each other out if we just calculated the average):"
   ]
  },
  {
   "cell_type": "code",
   "execution_count": 57,
   "metadata": {},
   "outputs": [
    {
     "data": {
      "text/plain": [
       "13.157672024"
      ]
     },
     "execution_count": 57,
     "metadata": {},
     "output_type": "execute_result"
    }
   ],
   "source": [
    "statistics.mean(abs(errors))"
   ]
  },
  {
   "cell_type": "markdown",
   "metadata": {},
   "source": [
    "So this model gets the heart rate wrong for these penguins by about 13 bpm, on average.\n",
    "\n",
    "We can compare this to the average error of the second example model, the one that also takes dive depth into account:"
   ]
  },
  {
   "cell_type": "code",
   "execution_count": 58,
   "metadata": {},
   "outputs": [
    {
     "data": {
      "text/plain": [
       "36.945893368"
      ]
     },
     "execution_count": 58,
     "metadata": {},
     "output_type": "execute_result"
    }
   ],
   "source": [
    "predicted_model2 = 100 - 5 * penguins['Duration'] + 0.5 * penguins['Depth']\n",
    "errors_model2 = predicted_model2 - penguins['HeartRate']\n",
    "\n",
    "statistics.mean(abs(errors_model2))"
   ]
  },
  {
   "cell_type": "markdown",
   "metadata": {},
   "source": [
    "This model seems to do rather worse, missing the true heart rates by more than 35 bpm on average.\n",
    "\n",
    "We will look in a moment at some more systematic ways of comparing competing models. Comparing average errors is a little crude and may leave out important details; I include it here to give you some insight into the concepts of models, predicted values, and errors.\n",
    "\n",
    "#### Error distributions\n",
    "\n",
    "If we would like our model formula to be formally more complete, we can also explicitly mention the errors. They are typically denoted by the Greek lowercase *epsilon* ($\\epsilon$). For example, the model formula for our first example model, with errors included, is:\n",
    "\n",
    "$$\n",
    "h = 100 - 5dur + \\epsilon\n",
    "$$\n",
    "\n",
    "This formula states that the heart rate on a dive is 100 bpm, minus 5 bpm for each minute of the dive, plus some random error reflecting the admission that the rest of the formula won't get the heart rate *exactly* right for every dive.\n",
    "\n",
    "Just throwing in an $\\epsilon$ like this seems a bit cowardly. Rather like adding a disclaimer: '... but please still count my model as correct even if its predictions are *completely* wrong.' We can do a little better. Consider what we observed when we explored the errors from our model above. The largest errors were no greater than ± 40 bpm, and on average much smaller than that. We generally do not expect the errors in a model to be utterly unpredictable. Instead, although we cannot say in advance what the error for each specific new prediction will be, we can say that it will tend to be within a given range and will only rarely go beyond certain limits, etc. One way of formalizing this additional detail in our model is to specify an 'error distribution', a 'spread' of likely values for the errors.\n",
    "\n",
    "Let's look at a [histogram](https://en.wikipedia.org/wiki/Histogram) to see the spread of the errors from our first example model. (We can use basic `pyplot` for something simple like this):"
   ]
  },
  {
   "cell_type": "code",
   "execution_count": 59,
   "metadata": {},
   "outputs": [
    {
     "data": {
      "image/png": "[encoded data removed]",
      "text/plain": [
       "<Figure size 432x288 with 1 Axes>"
      ]
     },
     "metadata": {
      "needs_background": "light"
     },
     "output_type": "display_data"
    }
   ],
   "source": [
    "pyplot.hist(errors)\n",
    "pyplot.xlabel('error Heart Rate (bpm)')\n",
    "pyplot.show()"
   ]
  },
  {
   "cell_type": "markdown",
   "metadata": {},
   "source": [
    "The errors seem to be drawn from a very approximately bell-shaped, or '[normal](https://en.wikipedia.org/wiki/Normal_distribution)' distribution; most errors cluster close(-ish) to zero, and errors far from zero are rare. The normal distribution is a common choice of error distribution, in part because it has convenient mathematical properties, and in part because it [occurs naturally](https://en.wikipedia.org/wiki/Central_limit_theorem) given certain assumptions that often hold true.\n",
    "\n",
    "If we want to go the whole hog with our model notation, we can specify that our model states that the errors are normally distributed like this:\n",
    "\n",
    "$$\n",
    "h = 100 - 5dur + \\epsilon, \\ \\epsilon \\sim \\mathcal{N}(0,\\sigma^2)\n",
    "$$\n",
    "\n",
    "* $\\sim$ means 'is distributed as...'\n",
    "* $\\mathcal{N}$ refers specifically to the normal distribution.\n",
    "* $0$ is the first 'parameter' of the normal distribution, its mean. In this case, we expect the mean error to be zero; that is, the predicted heart rates are on average neither systematic underestimates nor systematic overestimates.\n",
    "* $\\sigma^2$ is the second 'parameter' of the normal distribution, its 'variance', i.e. how spread out the errors are. In a finished model, we would fill this in with an actual number describing our assumptions about how large the errors will tend to be.\n",
    "\n",
    "Don't worry to much about this last notational flourish. I include it for the sake of completeness and so that you recognize it in other statistics texts you may read. If you have understood the first part of model formulas (e.g. $h = 100 - 5dur$) then you have the most practically important ingredients.\n",
    "\n",
    "### Free parameters\n",
    "\n",
    "The two example models above contain a few somewhat arbitrary numbers. How did we decide that the baseline heart rate should be 100 bpm, and that heart rate should decrease by precisely 5 bpm for each minute of dive duration? It seems that we just had these numbers secreted about our person and then pulled them out. There is even one number, $\\sigma^2$, the 'spread' of the errors, that has yet to be filled in at all.\n",
    "\n",
    "In some cases, we may indeed have good reasons for putting a particular number in our model formula. For example if we are experienced penguin physiologists we might already know that the resting heart rate of an emperor penguin is 100 bpm, and so we take this as a reasonable starting point for the formula. But rather more often our theories will only give us a general idea of the structure of the corresponding model, but we won't yet know what specific numbers should go in it. For example, our theory might state only that there is indeed a baseline heart rate, and that heart rate should change constantly with dive duration. We then still need to fill in the number for the baseline heart rate and the number for the size of the change in heart rate for each minute of dive duration.\n",
    "\n",
    "Such numbers that 'still need to be filled in' are termed 'free parameters'. They are the parts of a model that are still 'free' to take on different values in different specific versions of the model formula. When we write a model formula that still contains free parameters, they are typically represented using the Greek lowercase *beta* ($\\beta$), with a number subscript to distinguish multiple free parameters. Like this:\n",
    "\n",
    "$$\n",
    "h = \\beta_0 + \\beta_1dur + \\epsilon\n",
    "$$\n",
    "\n",
    "Here, $\\beta_0$ and $\\beta_1$ have taken the place of the specific numbers $100$ and $-5$ in our example formula from above.\n",
    "\n",
    "### Fitting\n",
    "\n",
    "So how do we decide what values to fill in for a model's free parameters?\n",
    "\n",
    "We want our model to be as accurate as it can be. So one obvious choice for filling in the free parameters of the model is to pick values that best fit the observations that we already have. Our hope in doing so is that by 'fitting' our model to the current set of observations we will obtain a final model formula that will be most accurate in general, either just as a mathematical description of the phenomenon that is of interest in itself, or in more applied cases as a means of predicting new values of the outcome measurement.\n",
    "\n",
    "#### Ordinary least squares\n",
    "\n",
    "In what sense do particular formulas fit data better than others? What criterion can we use to judge which numbers fit best? There are different answers possible to this question, but a very commonly-used criterion says: Pick the numbers that minimize the difference between the formula's predictions and the observed values. I.e. Pick the numbers that minimize the 'errors' that we learned about above.\n",
    "\n",
    "There is a small subtlety to consider with this criterion. In fact, the commonly-used criterion is not to minimize the errors, but to minimize their *squares*. That is, for each candidate set of values for the free parameters, we take the errors, *square them*, then add them up, then pick the values that make this 'sum of squares' the smallest.\n",
    "\n",
    "Why? Consider a completely minimal abstract example. We have the following two values:"
   ]
  },
  {
   "cell_type": "code",
   "execution_count": 60,
   "metadata": {},
   "outputs": [],
   "source": [
    "import numpy\n",
    "\n",
    "vals = numpy.array([6, 10])"
   ]
  },
  {
   "cell_type": "markdown",
   "metadata": {},
   "source": [
    "And now we want to pick a number that is in some way minimally different from these two values. Let's write a function for calculating the overall difference between a candidate number and our two values. This function just sums up the absolute differences between the candidate number and the values, without any squaring:"
   ]
  },
  {
   "cell_type": "code",
   "execution_count": 61,
   "metadata": {},
   "outputs": [],
   "source": [
    "def least_abs_diffs(candidate, values):\n",
    "    return sum(abs(values - candidate))"
   ]
  },
  {
   "cell_type": "markdown",
   "metadata": {},
   "source": [
    "And now let's test the function out with a not very reasonable candidate number:"
   ]
  },
  {
   "cell_type": "code",
   "execution_count": 62,
   "metadata": {},
   "outputs": [
    {
     "data": {
      "text/plain": [
       "17984"
      ]
     },
     "execution_count": 62,
     "metadata": {},
     "output_type": "execute_result"
    }
   ],
   "source": [
    "least_abs_diffs(9000, vals)"
   ]
  },
  {
   "cell_type": "markdown",
   "metadata": {},
   "source": [
    "And now with a more reasonable candidate, one that is between the two values:"
   ]
  },
  {
   "cell_type": "code",
   "execution_count": 63,
   "metadata": {},
   "outputs": [
    {
     "data": {
      "text/plain": [
       "4"
      ]
     },
     "execution_count": 63,
     "metadata": {},
     "output_type": "execute_result"
    }
   ],
   "source": [
    "least_abs_diffs(8, vals)"
   ]
  },
  {
   "cell_type": "markdown",
   "metadata": {},
   "source": [
    "So far, so good. As we intuitively expect, a number that is between the two values does a better job at minimizing the total differences from our values than does a number that is far from them.\n",
    "\n",
    "But what about other numbers that are between the two values?"
   ]
  },
  {
   "cell_type": "code",
   "execution_count": 64,
   "metadata": {},
   "outputs": [
    {
     "data": {
      "text/plain": [
       "4"
      ]
     },
     "execution_count": 64,
     "metadata": {},
     "output_type": "execute_result"
    }
   ],
   "source": [
    "least_abs_diffs(9, vals)"
   ]
  },
  {
   "cell_type": "code",
   "execution_count": 65,
   "metadata": {},
   "outputs": [
    {
     "data": {
      "text/plain": [
       "4"
      ]
     },
     "execution_count": 65,
     "metadata": {},
     "output_type": "execute_result"
    }
   ],
   "source": [
    "least_abs_diffs(10, vals)"
   ]
  },
  {
   "cell_type": "markdown",
   "metadata": {},
   "source": [
    "As you can probably easily see, any number that is somewhere in the middle of our two values does just as good a job of minimizing the absolute differences as any other. To relate this back to model fitting, if we use the sum of absolute errors as our criterion for choosing the best fitting numbers for the free parameters of a model, there will often be multiple winning candidate numbers. This isn't a good property if we want a reproducible method of finding the best fitting model formula.\n",
    "\n",
    "Now consider a slightly different function, which instead sums up the squared differences:"
   ]
  },
  {
   "cell_type": "code",
   "execution_count": 66,
   "metadata": {},
   "outputs": [
    {
     "data": {
      "text/plain": [
       "8"
      ]
     },
     "execution_count": 66,
     "metadata": {},
     "output_type": "execute_result"
    }
   ],
   "source": [
    "def least_squares(candidate, values):\n",
    "    return sum((values - candidate)**2)\n",
    "\n",
    "least_squares(8, vals)"
   ]
  },
  {
   "cell_type": "code",
   "execution_count": 67,
   "metadata": {},
   "outputs": [
    {
     "data": {
      "text/plain": [
       "10"
      ]
     },
     "execution_count": 67,
     "metadata": {},
     "output_type": "execute_result"
    }
   ],
   "source": [
    "least_squares(9, vals)"
   ]
  },
  {
   "cell_type": "code",
   "execution_count": 68,
   "metadata": {},
   "outputs": [
    {
     "data": {
      "text/plain": [
       "16"
      ]
     },
     "execution_count": 68,
     "metadata": {},
     "output_type": "execute_result"
    }
   ],
   "source": [
    "least_squares(10, vals)"
   ]
  },
  {
   "cell_type": "markdown",
   "metadata": {},
   "source": [
    "Now we have a unique best fitting number. Because squaring numbers quickly makes them much larger, the 'sum of squares' criterion penalizes candidate numbers that are far from any one of the values. So only a number that is 'right in the middle' will minimize the sum of squared errors. If you need to convince yourself, try it out in your Spyder console using the functions above and some other combinations of values.\n",
    "\n",
    "This is the reason that we use the sum of *squared* errors as the criterion for how well candidate values of a model's free parameters fit the observed data.\n",
    "\n",
    "### statsmodels\n",
    "\n",
    "Let's now finally see how to fit and explore some different models for our penguin data using Python. As usual, the first step is to import an additional [package](extras/glossary.ipynb#package) that provides the functions we need. The `statsmodels` package is a good starting choice. It contains functions for fitting various kinds of models, and it is included in the default Anaconda installation.\n",
    "\n",
    "It is a fairly big package, and the part of it that we want is the `formula` module. This module provides functions that allow us to write out mathematical model formulas as [strings](extras/glossary.ipynb#string). From within the `formula` module, we want the somewhat unhelpfully named `api` submodule. We will import it under the conventional [alias](extras/glossary.ipynb#alias) '`smf`':"
   ]
  },
  {
   "cell_type": "code",
   "execution_count": 69,
   "metadata": {},
   "outputs": [],
   "source": [
    "import statsmodels.formula.api as smf"
   ]
  },
  {
   "cell_type": "markdown",
   "metadata": {},
   "source": [
    "You may remember that I [earlier complained bitterly](arrays.ipynb#aliases) about the overuse of aliases. Perhaps I am being somewhat inconsistent here, but I think that this is one of those rare cases where an alias makes good sense. The module name `api` is not on its own particularly clear about the nature of the module, and worse, there is more than one `api` module in the `statsmodels` package, so this name on its own is ambiguous. And the alternative, using the full `statsmodels.formula.api`, is unwieldy. So we might as well use an alias here, and if we do then we should use the conventional one. We can see from the front page of the [online documentation](https://www.statsmodels.org/stable/index.html) for `statsmodels` that `smf` is the one the developers of the package use (it stands for 'Stats Models Formula').\n",
    "\n",
    "#### Formulas\n",
    "\n",
    "The function that we want for fitting a model to our data is called `ols()`. This is an abbreviation of 'Ordinary Least Squares', and implements the least squares criterion that we learned about above in order to pick values for the free parameters of a model formula. The first [argument](extras/glossary.ipynb#argument) that `ols()` needs is a [string](extras/glossary.ipynb#string) containing our model formula. Model formulas have their own special [syntax](extras/glossary.ipynb#syntax). The syntax for writing model formulas is based on another programming language called *R*. Here are the basics:\n",
    "\n",
    "* The formula always contains the symbol `~` (like the [tilde](https://en.wikipedia.org/wiki/Tilde) in Spanish ñ). This plays the role of the '$=$' in a mathematical model formula.\n",
    "* To the left of the `~`, write the name of the 'outcome' column from the data frame, i.e. the thing that the model is intended to predict or explain. In our example, this is the 'HeartRate' column.\n",
    "* To the right of the `~`, write a mathematical expression. `statsmodels` will assume that each quantity in this expression should be multiplied by a free parameter, and it will find best fitting values for those free parameters.\n",
    "  * The expressions in the formula will usually involve 'predictor' columns from the data frame. For example in our case the 'Depth' and 'Duration' columns.\n",
    "  * It follows that the lone number `1` in a model formula stands for a constant 'baseline' number in the formula (the $\\beta_0$ from our example formula above), because a free parameter multiplied by 1 will just be itself.\n",
    "* We don't need to put the errors ($\\epsilon$) into the formula.\n",
    "\n",
    "Let's take one of our example model formulas, the one that only makes use of dive duration as a predictor:\n",
    "\n",
    "$$\n",
    "h = \\beta_0 + \\beta_1dur + \\epsilon\n",
    "$$\n",
    "\n",
    "And turn it into a formula string for `statsmodels` following the rules we just learned:"
   ]
  },
  {
   "cell_type": "code",
   "execution_count": 70,
   "metadata": {},
   "outputs": [],
   "source": [
    "formula = 'HeartRate ~ 1 + Duration'"
   ]
  },
  {
   "cell_type": "markdown",
   "metadata": {},
   "source": [
    "And now we can input this formula to `ols()`. As was the case with some of the plotting functions we learned about earlier, an additional `data` argument tells `ols()` where to get the data from."
   ]
  },
  {
   "cell_type": "code",
   "execution_count": 71,
   "metadata": {},
   "outputs": [],
   "source": [
    "m_dur = smf.ols(formula, data=penguins)"
   ]
  },
  {
   "cell_type": "markdown",
   "metadata": {},
   "source": [
    "What sort of object did we get?"
   ]
  },
  {
   "cell_type": "code",
   "execution_count": 72,
   "metadata": {},
   "outputs": [
    {
     "data": {
      "text/plain": [
       "statsmodels.regression.linear_model.OLS"
      ]
     },
     "execution_count": 72,
     "metadata": {},
     "output_type": "execute_result"
    }
   ],
   "source": [
    "type(m_dur)"
   ]
  },
  {
   "cell_type": "markdown",
   "metadata": {},
   "source": [
    "This 'model' object has a `fit()` [method](extras/glossary.ipynb#method) (`dir()` it if you don't believe me), and it is this method that implements finding the best fitting values for the model's free parameters. Since fitting a model is almost always the first thing that we want to do anyway, it is common to just apply the `fit()` method immediately, at the same time as creating the model object with `ols()`. Like this:"
   ]
  },
  {
   "cell_type": "code",
   "execution_count": 73,
   "metadata": {},
   "outputs": [],
   "source": [
    "m_dur = smf.ols(formula, data=penguins).fit()"
   ]
  },
  {
   "cell_type": "markdown",
   "metadata": {},
   "source": [
    "#### Interpreting results\n",
    "\n",
    "What did we get from `fit()`?"
   ]
  },
  {
   "cell_type": "code",
   "execution_count": 74,
   "metadata": {},
   "outputs": [
    {
     "data": {
      "text/plain": [
       "statsmodels.regression.linear_model.RegressionResultsWrapper"
      ]
     },
     "execution_count": 74,
     "metadata": {},
     "output_type": "execute_result"
    }
   ],
   "source": [
    "type(m_dur)"
   ]
  },
  {
   "cell_type": "markdown",
   "metadata": {},
   "source": [
    "We get a 'ResultsWrapper'. This is the object that contains the results of the model fit, which is what we (and probably our supervisors) want to see. The `summary()` method gets us a nicely-formatted printout:"
   ]
  },
  {
   "cell_type": "code",
   "execution_count": 75,
   "metadata": {},
   "outputs": [
    {
     "name": "stdout",
     "output_type": "stream",
     "text": [
      "                            OLS Regression Results                            \n",
      "==============================================================================\n",
      "Dep. Variable:              HeartRate   R-squared:                       0.715\n",
      "Model:                            OLS   Adj. R-squared:                  0.713\n",
      "Method:                 Least Squares   F-statistic:                     309.0\n",
      "Date:                Wed, 26 Feb 2020   Prob (F-statistic):           2.35e-35\n",
      "Time:                        19:19:59   Log-Likelihood:                -507.24\n",
      "No. Observations:                 125   AIC:                             1018.\n",
      "Df Residuals:                     123   BIC:                             1024.\n",
      "Df Model:                           1                                         \n",
      "Covariance Type:            nonrobust                                         \n",
      "==============================================================================\n",
      "                 coef    std err          t      P>|t|      [0.025      0.975]\n",
      "------------------------------------------------------------------------------\n",
      "Intercept     96.9020      2.601     37.256      0.000      91.754     102.050\n",
      "Duration      -5.4680      0.311    -17.580      0.000      -6.084      -4.852\n",
      "==============================================================================\n",
      "Omnibus:                        5.443   Durbin-Watson:                   1.298\n",
      "Prob(Omnibus):                  0.066   Jarque-Bera (JB):                5.131\n",
      "Skew:                           0.492   Prob(JB):                       0.0769\n",
      "Kurtosis:                       3.125   Cond. No.                         17.4\n",
      "==============================================================================\n",
      "\n",
      "Warnings:\n",
      "[1] Standard Errors assume that the covariance matrix of the errors is correctly specified.\n"
     ]
    }
   ],
   "source": [
    "print(m_dur.summary())"
   ]
  },
  {
   "cell_type": "markdown",
   "metadata": {},
   "source": [
    "There is a lot going on in the summary. We won't cover it all. Here are the highlights:\n",
    "\n",
    "* Top left panel:\n",
    "  * What was the outcome ('Dependent Variable')? 'HeartRate', as we requested.\n",
    "  * What method was used to fit the model formula to the data? Least squares.\n",
    "  * How many observations? (I.e. how many dives in our case).\n",
    "  * For some reason also the date and time.\n",
    "* Top right panel:\n",
    "  * We will return to some of these later, but they are all measures of how 'good' the model is, in various different senses. Some of these numbers are not easily interpretable on their own, but they can be used to compare different competing models.\n",
    "* Middle panel:\n",
    "  * The rows of this table refer to the free parameters of our model. In our case we have:\n",
    "    * Intercept. This term refers to the constant 'baseline' number (the $\\beta_0$ in our formula).\n",
    "    * Duration. The 'multiplier' for the effect of dive duration on heart rate (the $\\beta_1$ in our formula).\n",
    "  * The columns of the table give different pieces of information about each free parameter:\n",
    "    * coef ('coefficient'). The chosen best fitting value. So our fitted model formula becomes: $h = 97 - 5.5dur + \\epsilon$.\n",
    "  * std err ('standard error'). Loosely speaking, a measure of how inaccurate the fitted value may be as an estimate of the true value in the overall population (of penguin dives in our case). Since this number reflects the expected amount of *inaccuracy*, larger numbers are 'worse'.\n",
    "  * Forget the remaining columns. Your supervisor may get excited about them, but they aren't really all that useful.\n",
    "* Bottom panel:\n",
    "  * Forget this too. Some of this information can be quite useful, but it gets complicated and proper explanation goes way beyond the basics that we are covering here.\n",
    "\n",
    "### Visualizing models\n",
    "\n",
    "For getting an overall impression of the nature of our model, a picture is better than numbers. Let's visualize the penguins data, along with the model that we just fit to them.\n",
    "\n",
    "The kind of model that we just applied is called a 'linear model'. The model formula can be thought of as describing a line drawn through a plot of the data. If we put the outcome (heart rate) on the *y* axis, and the sole predictor (dive duration) on the *x*  axis, then our model formula $h = 97 - 5.5dur$ describes a line across the space of the figure.\n",
    "\n",
    "The `seaborn` plotting package, which we learned about above, provides a function `lmplot()` ('linear model plot') for visualizing such a line along with the data:"
   ]
  },
  {
   "cell_type": "code",
   "execution_count": 76,
   "metadata": {},
   "outputs": [
    {
     "data": {
      "image/png": "[encoded data removed]",
      "text/plain": [
       "<Figure size 360x360 with 1 Axes>"
      ]
     },
     "metadata": {
      "needs_background": "light"
     },
     "output_type": "display_data"
    }
   ],
   "source": [
    "seaborn.lmplot(x='Duration', y='HeartRate', data=penguins)\n",
    "pyplot.xlabel('Dive duration (mins)')\n",
    "pyplot.ylabel('Heart rate (bpm)')\n",
    "pyplot.show()"
   ]
  },
  {
   "cell_type": "markdown",
   "metadata": {},
   "source": [
    "The line represents the model's predictions for heart rate across different dive durations. If we take a given dive duration, say 10 minutes, find this value on the *x* axis, read upwards until reaching the line and then read across to the *y* axis, we get the predicted heart rate for this dive duration, which for 10 minutes looks like about 40 bpm.\n",
    "\n",
    "The fitted model also has a `predict()` [method](extras/glossary.ipynb#method), which we can use to get predictions. The [argument](extras/glossary.ipynb#argument) to `predict()` is a [dictionary](extras/glossary.ipynb#dictionary) containing values for the predictors in the model:"
   ]
  },
  {
   "cell_type": "code",
   "execution_count": 77,
   "metadata": {},
   "outputs": [
    {
     "data": {
      "text/plain": [
       "0    42.221752\n",
       "dtype: float64"
      ]
     },
     "execution_count": 77,
     "metadata": {},
     "output_type": "execute_result"
    }
   ],
   "source": [
    "m_dur.predict({'Duration': 10})"
   ]
  },
  {
   "cell_type": "markdown",
   "metadata": {},
   "source": [
    "So for a 10-minute dive our model predicts a heart rate of about 42 bpm."
   ]
  },
  {
   "cell_type": "markdown",
   "metadata": {},
   "source": [
    "### Checking models\n",
    "\n",
    "Take another look at the figure above that visualizes our model. The model line goes approximately through the center of the cloud of dives, meaning that for most dives the model's predictions about heart rate are close to the true observed heart rates. Which is good.\n",
    "\n",
    "But we can also see that the model makes some systematic mistakes. At the extremes of the dive duration scale, the model consistently underestimates the penguin's heart rate. We can see this from the fact that at the far left and right of the figure, the model line lies beneath most of the points. This suggests that there are some consistent aspects of penguin diving that our model does not account for.\n",
    "\n",
    "Sometimes, an alternative visualization can make this kind of systematic error even clearer. If we use the * y* axis to show not the actual heart rates but the errors (remember these are the differences between the predicted and observed heart rates), we can whether there are any areas of the figure in which the errors are particularly large or are systematic under- or overestimates.\n",
    "\n",
    "`seaborn`'s `residplot()` function produces such a figure ('resid' is an abbreviation of 'residual', and 'residuals' is an alternative name for what we called 'errors' above)."
   ]
  },
  {
   "cell_type": "code",
   "execution_count": 78,
   "metadata": {},
   "outputs": [
    {
     "data": {
      "image/png": "[encoded data removed]",
      "text/plain": [
       "<Figure size 432x288 with 1 Axes>"
      ]
     },
     "metadata": {
      "needs_background": "light"
     },
     "output_type": "display_data"
    }
   ],
   "source": [
    "seaborn.residplot(x='Duration', y='HeartRate', data=penguins)\n",
    "pyplot.xlabel('Dive duration (mins)')\n",
    "pyplot.ylabel('error Heart rate (bpm)')\n",
    "pyplot.show()"
   ]
  },
  {
   "cell_type": "markdown",
   "metadata": {},
   "source": [
    "The systematic pattern in the model's mistakes is a little clearer in this figure.\n",
    "\n",
    "### Non-linearities\n",
    "\n",
    "Might there be a better model of penguin heart rates that avoids the systematic errors we just discovered?\n",
    "\n",
    "We need to think about the mismatch between the form of our model and the phenomenon at hand. If we look at the scatterplot showing the relationship between heart rate and dive duration, we see that heart rates slow down quite rapidly with each extra minute of diving time, but only for dives of up to about five or six minutes. For longer dives, heart rate still gets slower, but the differences between longer dives are not as great. This makes a certain amount of penguin physiological sense. Presumably penguins cannot continue slowing their heart rate indefinitely, or they would fall into a coma or die while swimming. So as we get close to the slowest heart rate that is feasible, a longer diving time no longer reduces heart rate quite as much. Our model cannot account for this fact, because it contains a constant multiplier of dive duration. Visually, this is reflected in the fact that the model line on the `lmplot` is straight.\n",
    "\n",
    "What sort of model formula would describe a curved line instead? There are lots of possibilities, but they all involve using some mathematical function of dive duration as the predictor instead of, or as well as, dive duration itself. A simple starting point is to use the logarithm of dive duration as a predictor in place of dive duration itself.\n",
    "\n",
    "In case you need to remind yourself, remember that logarithms 'compress' the scale of a set of numbers, making large numbers proportionately not so large. Let's see this in action, using `numpy`'s `log()` function with a sequence of numbers:"
   ]
  },
  {
   "cell_type": "code",
   "execution_count": 79,
   "metadata": {},
   "outputs": [
    {
     "data": {
      "text/plain": [
       "array([0.        , 0.69314718, 1.60943791, 2.30258509, 2.99573227])"
      ]
     },
     "execution_count": 79,
     "metadata": {},
     "output_type": "execute_result"
    }
   ],
   "source": [
    "numpy.log([1, 2, 5, 10, 20])"
   ]
  },
  {
   "cell_type": "markdown",
   "metadata": {},
   "source": [
    "We see that the logarithm function brings the largest values closer to the smaller ones. So if we use the logarithm of dive duration as our predictor, the effect of long dive durations on heart rate will be diminished, which is just what we want to achieve.\n",
    "\n",
    "Our revised model formula now looks like this:\n",
    "\n",
    "$$\n",
    "h = \\beta_0 + \\beta_1log(dur) + \\epsilon\n",
    "$$\n",
    "\n",
    "Let's see this model visualized. The `lmplot()` function has an optional `logx` [argument](extras/glossary.ipynb#argument) that we can set to `True` to show the model line with the logarithm of the *x*  axis as the predictor."
   ]
  },
  {
   "cell_type": "code",
   "execution_count": 80,
   "metadata": {},
   "outputs": [
    {
     "data": {
      "image/png": "[encoded data removed]",
      "text/plain": [
       "<Figure size 360x360 with 1 Axes>"
      ]
     },
     "metadata": {
      "needs_background": "light"
     },
     "output_type": "display_data"
    }
   ],
   "source": [
    "seaborn.lmplot(x='Duration', y='HeartRate', data=penguins, logx=True)\n",
    "pyplot.title('Heart rate ~ log(Dive duration)')\n",
    "pyplot.xlabel('Dive duration (mins)')\n",
    "pyplot.ylabel('Heart rate (bpm)')\n",
    "pyplot.show()"
   ]
  },
  {
   "cell_type": "markdown",
   "metadata": {},
   "source": [
    "Let's also fit the logarithmic model to our data and see a summary, as we did for the first model. We can use `numpy`'s math functions in a model formula:"
   ]
  },
  {
   "cell_type": "code",
   "execution_count": 81,
   "metadata": {},
   "outputs": [
    {
     "name": "stdout",
     "output_type": "stream",
     "text": [
      "                            OLS Regression Results                            \n",
      "==============================================================================\n",
      "Dep. Variable:              HeartRate   R-squared:                       0.791\n",
      "Model:                            OLS   Adj. R-squared:                  0.790\n",
      "Method:                 Least Squares   F-statistic:                     466.8\n",
      "Date:                Wed, 26 Feb 2020   Prob (F-statistic):           1.08e-43\n",
      "Time:                        19:20:00   Log-Likelihood:                -487.79\n",
      "No. Observations:                 125   AIC:                             979.6\n",
      "Df Residuals:                     123   BIC:                             985.2\n",
      "Df Model:                           1                                         \n",
      "Covariance Type:            nonrobust                                         \n",
      "=======================================================================================\n",
      "                          coef    std err          t      P>|t|      [0.025      0.975]\n",
      "---------------------------------------------------------------------------------------\n",
      "Intercept             109.6072      2.667     41.099      0.000     104.328     114.886\n",
      "numpy.log(Duration)   -30.0404      1.390    -21.607      0.000     -32.793     -27.288\n",
      "==============================================================================\n",
      "Omnibus:                        2.549   Durbin-Watson:                   1.070\n",
      "Prob(Omnibus):                  0.280   Jarque-Bera (JB):                2.050\n",
      "Skew:                           0.209   Prob(JB):                        0.359\n",
      "Kurtosis:                       3.468   Cond. No.                         5.85\n",
      "==============================================================================\n",
      "\n",
      "Warnings:\n",
      "[1] Standard Errors assume that the covariance matrix of the errors is correctly specified.\n"
     ]
    }
   ],
   "source": [
    "m_log_dur = smf.ols('HeartRate ~ 1 + numpy.log(Duration)', data=penguins).fit()\n",
    "\n",
    "print(m_log_dur.summary())"
   ]
  },
  {
   "cell_type": "markdown",
   "metadata": {},
   "source": [
    "### Comparing models\n",
    "\n",
    "Which of the two models above is the better one? As with so many seemingly innocent questions in data analysis, there are different possible answers depending on what exactly we mean. Let's finish by learning about a few different criteria by which to compare competing models of our data.\n",
    "\n",
    "Let's first throw in one more model so that we have three to compare with each other. This final model is a somewhat wacky one that includes both the square and the cube of dive duration as predictors:\n",
    "\n",
    "$$\n",
    "h = \\beta_0 + \\beta_1dur + \\beta_2dur^2 + \\beta_3dur^3 + \\epsilon\n",
    "$$"
   ]
  },
  {
   "cell_type": "code",
   "execution_count": 82,
   "metadata": {},
   "outputs": [
    {
     "name": "stdout",
     "output_type": "stream",
     "text": [
      "                            OLS Regression Results                            \n",
      "==============================================================================\n",
      "Dep. Variable:              HeartRate   R-squared:                       0.792\n",
      "Model:                            OLS   Adj. R-squared:                  0.787\n",
      "Method:                 Least Squares   F-statistic:                     153.7\n",
      "Date:                Wed, 26 Feb 2020   Prob (F-statistic):           4.21e-41\n",
      "Time:                        19:20:01   Log-Likelihood:                -487.59\n",
      "No. Observations:                 125   AIC:                             983.2\n",
      "Df Residuals:                     121   BIC:                             994.5\n",
      "Df Model:                           3                                         \n",
      "Covariance Type:            nonrobust                                         \n",
      "============================================================================================\n",
      "                               coef    std err          t      P>|t|      [0.025      0.975]\n",
      "--------------------------------------------------------------------------------------------\n",
      "Intercept                  120.7481      4.971     24.288      0.000     110.906     130.590\n",
      "Duration                   -17.2643      2.630     -6.563      0.000     -22.472     -12.057\n",
      "numpy.power(Duration, 2)     1.2477      0.354      3.528      0.001       0.548       1.948\n",
      "numpy.power(Duration, 3)    -0.0331      0.014     -2.432      0.016      -0.060      -0.006\n",
      "==============================================================================\n",
      "Omnibus:                        3.185   Durbin-Watson:                   1.024\n",
      "Prob(Omnibus):                  0.203   Jarque-Bera (JB):                2.661\n",
      "Skew:                           0.265   Prob(JB):                        0.264\n",
      "Kurtosis:                       3.479   Cond. No.                     5.99e+03\n",
      "==============================================================================\n",
      "\n",
      "Warnings:\n",
      "[1] Standard Errors assume that the covariance matrix of the errors is correctly specified.\n",
      "[2] The condition number is large, 5.99e+03. This might indicate that there are\n",
      "strong multicollinearity or other numerical problems.\n"
     ]
    }
   ],
   "source": [
    "m_cubic_dur = smf.ols('HeartRate ~ 1 + Duration + numpy.power(Duration, 2) + numpy.power(Duration, 3)',\n",
    "                      data=penguins).fit()\n",
    "\n",
    "print(m_cubic_dur.summary())"
   ]
  },
  {
   "cell_type": "markdown",
   "metadata": {},
   "source": [
    "To get an idea of what this model might look like in action, let's remind ourselves of the behavior of mathematical functions like this one that sum up successive powers of a quantity (the square, the cube, etc.) Such functions are often called 'polynomials'.\n",
    "\n",
    "Here for example is a figure showing the relationship between some quantity $x$ and the sum of $x$, $x^2$, and $x^3$:"
   ]
  },
  {
   "cell_type": "code",
   "execution_count": 88,
   "metadata": {},
   "outputs": [
    {
     "data": {
      "image/png": "[encoded data removed]",
      "text/plain": [
       "<Figure size 432x288 with 1 Axes>"
      ]
     },
     "metadata": {
      "needs_background": "light"
     },
     "output_type": "display_data"
    }
   ],
   "source": [
    "x = numpy.linspace(-3, 3)\n",
    "y = x + x**2 + x**3\n",
    "pyplot.plot(x, y)\n",
    "pyplot.xlabel('x')\n",
    "pyplot.ylabel('x + x**2 + x**3')\n",
    "pyplot.show()"
   ]
  },
  {
   "cell_type": "markdown",
   "metadata": {},
   "source": [
    "(If you are wondering about the `numpy` `linspace()` function, take a look at its [documentation page](https://docs.scipy.org/doc/numpy/reference/generated/numpy.linspace.html).)\n",
    "\n",
    "Each successive power in a polynomial formula adds one more 'bend' to the curve that relates the *x* quantity to the sum of its powers. If we use such a formula in a statistical model, the free parameters for each of the powers of the predictor control the position and 'abruptness' of these bends.\n",
    "\n",
    "In our example model, we have two additional powers of dive duration, so our model is capable of describing a relationship between dive duration and heart rate that has up to two bends in it.\n",
    "\n",
    "Let's now look at a few criteria by which to compare our three models.\n",
    "\n",
    "#### R-squared\n",
    "\n"
   ]
  },
  {
   "cell_type": "code",
   "execution_count": 84,
   "metadata": {
    "tags": [
     "remove-cell"
    ]
   },
   "outputs": [],
   "source": [
    "cleanup()"
   ]
  }
 ],
 "metadata": {
  "celltoolbar": "Tags",
  "kernelspec": {
   "display_name": "Python 3",
   "language": "python",
   "name": "python3"
  },
  "language_info": {
   "codemirror_mode": {
    "name": "ipython",
    "version": 3
   },
   "file_extension": ".py",
   "mimetype": "text/x-python",
   "name": "python",
   "nbconvert_exporter": "python",
   "pygments_lexer": "ipython3",
   "version": "3.6.9"
  },
  "toc": {
   "base_numbering": 1,
   "nav_menu": {},
   "number_sections": false,
   "sideBar": true,
   "skip_h1_title": true,
   "title_cell": "Contents",
   "title_sidebar": "Contents",
   "toc_cell": true,
   "toc_position": {},
   "toc_section_display": true,
   "toc_window_display": false
  }
 },
 "nbformat": 4,
 "nbformat_minor": 4
}
