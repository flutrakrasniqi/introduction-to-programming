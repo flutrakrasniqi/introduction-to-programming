{
 "cells": [
  {
   "cell_type": "markdown",
   "metadata": {
    "toc": true
   },
   "source": [
    "<h1>Contents<span class=\"tocSkip\"></span></h1>\n",
    "<div class=\"toc\"><ul class=\"toc-item\"><li><span><a href=\"#Dependencies\" data-toc-modified-id=\"Dependencies-1\">Dependencies</a></span><ul class=\"toc-item\"><li><span><a href=\"#Conflicts\" data-toc-modified-id=\"Conflicts-1.1\">Conflicts</a></span></li></ul></li></ul></div>"
   ]
  },
  {
   "cell_type": "code",
   "execution_count": 1,
   "metadata": {
    "tags": [
     "remove-cell"
    ]
   },
   "outputs": [],
   "source": [
    "import shutil\n",
    "\n",
    "def cleanup():\n",
    "    for dirname in ['my_venv', 'my_py2_venv']:\n",
    "        shutil.rmtree(dirname, ignore_errors=True)\n",
    "\n",
    "cleanup()"
   ]
  },
  {
   "cell_type": "markdown",
   "metadata": {},
   "source": [
    "# Virtual environments\n",
    "\n",
    "Back in the [lesson on Python's standard library](standard_library.ipynb), we learned about the 'modular' structure of Python. The core of Python provides the basic [data types](extras/glossary.ipynb#type) and [built-in functions](extras/glossary.ipynb#builtin) with which we can already accomplish many useful tasks. But when we want to do something a bit more specialized, such as locate [directories](extras/glossary.ipynb#directory) on the computer, use more complex math functions, or generate random numbers, then we need to [import](extras/glossary.ipynb#import) additional [modules](extras/glossary.ipynb#module) from the standard library. Going further, sometimes even the standard library isn't enough. At the end of the lesson on the standard library, we briefly noted the existence of 'third-party packages' for Python: bundles of modules created by other users rather than by the developers of Python. Many of these are extremely useful, and we may want to make use of them in our own programs. We briefly met our first third-party package, `pandas`, in the [lesson on files](files.ipynb#pandas), when we used `pandas` to read a text [csv file](extras/glossary.ipynb#csv) as a table of data.\n",
    "\n",
    "In this lesson, we will consider a few special problems that arise if we choose to use third-party packages in our programs, and we will learn about some tools that can help us solve these problems.\n",
    "\n",
    "## Dependencies\n",
    "\n",
    "If we write a Python program that [imports](extras/glossary.ipynb#import) a third-party package, then we say that our program 'depends' on that package. Conversely, we say that that package is a [dependency](extras/glossary.ipynb#dependency) of our program. Dependencies are common in programming. When writing a new program, we should avoid re-inventing the wheel, and make use of solutions that others have already come up with. Our programs can go further because they stand on the shoulders of giants.\n",
    "\n",
    "In fact, a rather more fitting metaphor would be to say that our programs stand on the shoulders of dwarves, who in turn stand on the shoulders of more dwarves, and so on, with it being dwarves all the way down (perhaps with the occasional giant in between). The dependencies of our program will have their own dependencies. For example, the `pandas` package depends on the further Python packages `dateutil` (for handling dates and times), `numpy` (for working with structured tables of numbers), `tz` (for working with time zones), and `six` (for handling differences between Python 3 and the older version of Python, Python 2). These dependencies of course have their own dependencies, and so on.\n",
    "\n",
    "Third-party dependencies are not of themselves a problem. But there two scenarios that can arise when using them that may cause us some trouble.\n",
    "\n",
    "### Versions\n",
    "\n",
    "A Python package is usually an ongoing project. The developers of the package will from time to time fix mistakes, improve the technical efficiency of the package, or even add completely new features. And after some time, they will release a new version of the package that incorporates all of these changes. For us as ordinary users of the package, this means that the next time we update our Python installation we might get the new version, and it will replace the version that we currently have.\n",
    "\n",
    "This is usually what we would like to happen. The changes in new versions of Python packages will tend to be improvements, and we would like our Python programs to benefit from those improvements. However, in some circumstances we would actually prefer *not* to have the latest version of a package, but instead to stick with the one we have."
   ]
  },
  {
   "cell_type": "code",
   "execution_count": 1,
   "metadata": {},
   "outputs": [
    {
     "data": {
      "text/plain": [
       "'0.10.0'"
      ]
     },
     "execution_count": 1,
     "metadata": {},
     "output_type": "execute_result"
    }
   ],
   "source": [
    "import seaborn\n",
    "\n",
    "seaborn.__version__"
   ]
  },
  {
   "cell_type": "code",
   "execution_count": 2,
   "metadata": {
    "tags": [
     "remove-cell"
    ]
   },
   "outputs": [],
   "source": [
    "cleanup()"
   ]
  }
 ],
 "metadata": {
  "celltoolbar": "Tags",
  "kernelspec": {
   "display_name": "Python 3",
   "language": "python",
   "name": "python3"
  },
  "language_info": {
   "codemirror_mode": {
    "name": "ipython",
    "version": 3
   },
   "file_extension": ".py",
   "mimetype": "text/x-python",
   "name": "python",
   "nbconvert_exporter": "python",
   "pygments_lexer": "ipython3",
   "version": "3.6.9"
  },
  "toc": {
   "base_numbering": 1,
   "nav_menu": {},
   "number_sections": false,
   "sideBar": true,
   "skip_h1_title": true,
   "title_cell": "Contents",
   "title_sidebar": "Contents",
   "toc_cell": true,
   "toc_position": {},
   "toc_section_display": true,
   "toc_window_display": false
  }
 },
 "nbformat": 4,
 "nbformat_minor": 4
}
