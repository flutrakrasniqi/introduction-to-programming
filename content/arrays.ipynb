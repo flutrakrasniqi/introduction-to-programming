{
 "cells": [
  {
   "cell_type": "markdown",
   "metadata": {
    "toc": true
   },
   "source": [
    "<h1>Contents<span class=\"tocSkip\"></span></h1>\n",
    "<div class=\"toc\"><ul class=\"toc-item\"><li><span><a href=\"#Vectors\" data-toc-modified-id=\"Vectors-1\">Vectors</a></span></li><li><span><a href=\"#Matrices\" data-toc-modified-id=\"Matrices-2\">Matrices</a></span><ul class=\"toc-item\"><li><span><a href=\"#Matrix-multiplication\" data-toc-modified-id=\"Matrix-multiplication-2.1\">Matrix multiplication</a></span></li></ul></li></ul></div>"
   ]
  },
  {
   "cell_type": "markdown",
   "metadata": {},
   "source": [
    "# Array computing\n",
    "\n",
    "Various tasks in science and mathematics involve manipulating collections of numbers organized in vectors or matrices. You may remember this from high school or college, depending on how far you took math. In this lesson we will learn about how to manipulate vectors and matrices with Python, so let's start by briefly recapping what these things are.\n",
    "\n",
    "## Vectors\n",
    "\n",
    "A [vector](extras/glossary.ipynb#vector) is a collection of multiple numbers arranged in a specific order. Vectors have various uses. They can be used in data analysis to represent multiple observations of the same type. For example, some shoe sizes:\n",
    "\n",
    "$$\n",
    "\\begin{bmatrix}\n",
    "42 & 39 & 72 & 45 \\\\\n",
    "\\end{bmatrix}\n",
    "$$\n",
    "\n",
    "Vectors are also commonly used to represent points in a multidimensional space. For example, a vector of three numbers could record the *height, width, depth* coordinates of a point in three-dimensional space:\n",
    "\n",
    "$$\n",
    "\\begin{bmatrix}\n",
    "2.4 & 1.0 & 3.7 \\\\\n",
    "\\end{bmatrix}\n",
    "$$\n",
    "\n",
    "## Matrices\n",
    "\n",
    "As well as being a virtual-reality environment in which our machine overlords keep us entertained while harvesting our energy in defiance of the laws of thermodynamics, a [matrix](extras/glossary.ipynb#matrix) is a collection of multiple numbers arranged in rows and columns. Like vectors, matrices have various uses in math. A matrix might record multiple observations of multiple variables, where each row is an observation and each column is a variable. For example, for four people, their shoe sizes, IQ scores, and whether or not they work as a clown:\n",
    "\n",
    "$$\n",
    "\\begin{bmatrix}\n",
    "42 & 150 & 0 \\\\\n",
    "39 & 115 & 0 \\\\\n",
    "72 & 180 & 1 \\\\\n",
    "45 & 85 & 0 \\\\\n",
    "\\end{bmatrix}\n",
    "$$\n",
    "\n",
    "Vectors are special cases of matrices that have either only one row, in which case the vector is termed a 'row vector', or only one column, in which case the vector is termed a 'column vector'. (In many cases it is just not important whether a vector should be considered a single row or a single column, in which case this information is omitted.)\n",
    "\n",
    "In the context of matrix math, an ordinary lone number (such as `2`) is often called a [scalar](#scalar), to distinguish it from vectors and matrices.\n",
    "\n",
    "### Matrix multiplication\n",
    "\n",
    "One common use of matrices is to represent geometric or statistical calculations applied to points in a multidimensional space.\n",
    "\n",
    "For example, for a matrix that stores a collection of the *x, y* coordinates of some points in a 2-dimensional space, another matrix can be used to represent the rotation of those points by some angle around the center (or 'origin') of the space.\n",
    "\n",
    "How does this work? "
   ]
  }
 ],
 "metadata": {
  "kernelspec": {
   "display_name": "Python 3",
   "language": "python",
   "name": "python3"
  },
  "language_info": {
   "codemirror_mode": {
    "name": "ipython",
    "version": 3
   },
   "file_extension": ".py",
   "mimetype": "text/x-python",
   "name": "python",
   "nbconvert_exporter": "python",
   "pygments_lexer": "ipython3",
   "version": "3.6.9"
  },
  "toc": {
   "base_numbering": 1,
   "nav_menu": {},
   "number_sections": false,
   "sideBar": true,
   "skip_h1_title": true,
   "title_cell": "Contents",
   "title_sidebar": "Contents",
   "toc_cell": true,
   "toc_position": {},
   "toc_section_display": true,
   "toc_window_display": false
  }
 },
 "nbformat": 4,
 "nbformat_minor": 4
}
